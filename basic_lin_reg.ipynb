{
 "cells": [
  {
   "cell_type": "code",
   "execution_count": null,
   "id": "586adc2a-a8be-4587-8ace-eb0653a8fcf7",
   "metadata": {},
   "outputs": [],
   "source": []
  },
  {
   "cell_type": "code",
   "execution_count": 2,
   "id": "5d26e9b5-3e37-4362-bf72-4bc823d278cc",
   "metadata": {
    "tags": []
   },
   "outputs": [],
   "source": [
    "import pandas as pd\n",
    "import numpy as np\n",
    "import matplotlib.pyplot as plt\n",
    "import seaborn as sns\n",
    "import pyspark\n",
    "from pyspark.sql import SparkSession\n",
    "from pyspark.ml import Pipeline\n",
    "from pyspark.ml.evaluation import RegressionEvaluator\n",
    "# from pyspark.ml.feature import OneHotEncoderEstimator, VectorAssembler, StringIndexer\n",
    "from pyspark.ml.regression import DecisionTreeRegressor\n",
    "from pyspark.sql import functions as F\n",
    "from pyspark.sql.window import Window\n"
   ]
  },
  {
   "cell_type": "code",
   "execution_count": null,
   "id": "9ccaedc7-df93-49d3-9147-4e11eba6bb40",
   "metadata": {},
   "outputs": [],
   "source": []
  },
  {
   "cell_type": "code",
   "execution_count": 6,
   "id": "6761f041-67a0-46b5-a99e-4a3b94e5d710",
   "metadata": {
    "tags": []
   },
   "outputs": [],
   "source": [
    "# init spark session\n",
    "spark = SparkSession \\\n",
    "        .builder \\\n",
    "        .appName(\"StockAnalysis\") \\\n",
    "        .getOrCreate()\n",
    "        \n"
   ]
  },
  {
   "cell_type": "code",
   "execution_count": 14,
   "id": "4667e46e-d3ce-4366-b54c-220d18d74156",
   "metadata": {
    "tags": []
   },
   "outputs": [],
   "source": [
    "# Load Data\n",
    "df = spark.read.format('parquet').load('AMZN.parquet')\n",
    "# multiple stocks\n",
    "# df = spark.read.format('parquet').load('**.parquet')"
   ]
  },
  {
   "cell_type": "code",
   "execution_count": 15,
   "id": "01543577-fbb3-42ac-b312-8f2cc4da5a34",
   "metadata": {
    "tags": []
   },
   "outputs": [
    {
     "data": {
      "text/plain": [
       "StructType([StructField('TradeDate', DateType(), True), StructField('BarDateTime', TimestampType(), True), StructField('Ticker', StringType(), True), StructField('SecId', LongType(), True), StructField('OpenBarTimeOffset', DecimalType(1,0), True), StructField('OpenBidPrice', DecimalType(6,2), True), StructField('OpenBidSize', LongType(), True), StructField('OpenAskPrice', DecimalType(6,2), True), StructField('OpenAskSize', LongType(), True), StructField('FirstTradeTimeOffset', DecimalType(11,9), True), StructField('FirstTradePrice', DecimalType(8,4), True), StructField('FirstTradeSize', LongType(), True), StructField('HighBidTimeOffset', DecimalType(11,9), True), StructField('HighBidPrice', DecimalType(6,2), True), StructField('HighBidSize', LongType(), True), StructField('HighAskTimeOffset', DecimalType(11,9), True), StructField('HighAskPrice', DecimalType(6,2), True), StructField('HighAskSize', LongType(), True), StructField('HighTradeTimeOffset', DecimalType(11,9), True), StructField('HighTradePrice', DecimalType(8,4), True), StructField('HighTradeSize', LongType(), True), StructField('LowBidTimeOffset', DecimalType(11,9), True), StructField('LowBidPrice', DecimalType(6,2), True), StructField('LowBidSize', LongType(), True), StructField('LowAskTimeOffset', DecimalType(11,9), True), StructField('LowAskPrice', DecimalType(6,2), True), StructField('LowAskSize', LongType(), True), StructField('LowTradeTimeOffset', DecimalType(11,9), True), StructField('LowTradePrice', DecimalType(8,4), True), StructField('LowTradeSize', LongType(), True), StructField('CloseBarTimeOffset', DecimalType(11,9), True), StructField('CloseBidPrice', DecimalType(6,2), True), StructField('CloseBidSize', LongType(), True), StructField('CloseAskPrice', DecimalType(6,2), True), StructField('CloseAskSize', LongType(), True), StructField('LastTradeTimeOffset', DecimalType(11,9), True), StructField('LastTradePrice', DecimalType(8,4), True), StructField('LastTradeSize', LongType(), True), StructField('MinSpread', DecimalType(5,2), True), StructField('MaxSpread', DecimalType(6,2), True), StructField('CancelSize', LongType(), True), StructField('VolumeWeightPrice', DecimalType(9,5), True), StructField('NBBOQuoteCount', LongType(), True), StructField('TradeAtBid', LongType(), True), StructField('TradeAtBidMid', LongType(), True), StructField('TradeAtMid', LongType(), True), StructField('TradeAtMidAsk', LongType(), True), StructField('TradeAtAsk', LongType(), True), StructField('TradeAtCrossOrLocked', LongType(), True), StructField('Volume', LongType(), True), StructField('TotalTrades', LongType(), True), StructField('FinraVolume', LongType(), True), StructField('FinraVolumeWeightPrice', DecimalType(9,5), True), StructField('UptickVolume', LongType(), True), StructField('DowntickVolume', LongType(), True), StructField('RepeatUptickVolume', LongType(), True), StructField('RepeatDowntickVolume', LongType(), True), StructField('UnknownTickVolume', LongType(), True), StructField('TradeToMidVolWeight', DecimalType(9,5), True), StructField('TradeToMidVolWeightRelative', DecimalType(8,5), True), StructField('TimeWeightBid', DecimalType(9,5), True), StructField('TimeWeightAsk', DecimalType(9,5), True)])"
      ]
     },
     "execution_count": 15,
     "metadata": {},
     "output_type": "execute_result"
    }
   ],
   "source": [
    "df.schema"
   ]
  },
  {
   "cell_type": "code",
   "execution_count": 16,
   "id": "80f74409-5ecc-49e5-a5ba-89e742d596ec",
   "metadata": {
    "tags": []
   },
   "outputs": [
    {
     "data": {
      "text/plain": [
       "Row(TradeDate=datetime.date(2022, 4, 14), BarDateTime=datetime.datetime(2022, 4, 14, 8, 0), Ticker='AMZN', SecId=33127, OpenBarTimeOffset=Decimal('0'), OpenBidPrice=Decimal('0.00'), OpenBidSize=0, OpenAskPrice=Decimal('0.00'), OpenAskSize=0, FirstTradeTimeOffset=Decimal('0.030081174'), FirstTradePrice=Decimal('3117.0800'), FirstTradeSize=3, HighBidTimeOffset=Decimal('0.080006998'), HighBidPrice=Decimal('3113.00'), HighBidSize=100, HighAskTimeOffset=Decimal('0.030556032'), HighAskPrice=Decimal('3505.00'), HighAskSize=100, HighTradeTimeOffset=Decimal('0.077200828'), HighTradePrice=Decimal('3120.0000'), HighTradeSize=3, LowBidTimeOffset=Decimal('0.030282024'), LowBidPrice=Decimal('2727.70'), LowBidSize=100, LowAskTimeOffset=Decimal('33.972592287'), LowAskPrice=Decimal('3117.69'), LowAskSize=100, LowTradeTimeOffset=Decimal('0.862502277'), LowTradePrice=Decimal('3113.0000'), LowTradeSize=2, CloseBarTimeOffset=Decimal('59.999999999'), CloseBidPrice=Decimal('3113.00'), CloseBidSize=100, CloseAskPrice=Decimal('3124.86'), CloseAskSize=100, LastTradeTimeOffset=Decimal('30.649934773'), LastTradePrice=Decimal('3119.8200'), LastTradeSize=4, MinSpread=Decimal('4.69'), MaxSpread=Decimal('705.00'), CancelSize=0, VolumeWeightPrice=Decimal('3115.90000'), NBBOQuoteCount=82, TradeAtBid=20, TradeAtBidMid=31, TradeAtMid=0, TradeAtMidAsk=7, TradeAtAsk=0, TradeAtCrossOrLocked=0, Volume=61, TotalTrades=14, FinraVolume=0, FinraVolumeWeightPrice=Decimal('0.00000'), UptickVolume=33, DowntickVolume=6, RepeatUptickVolume=0, RepeatDowntickVolume=19, UnknownTickVolume=3, TradeToMidVolWeight=Decimal('-268.81967'), TradeToMidVolWeightRelative=Decimal('-0.23849'), TimeWeightBid=Decimal('3112.66803'), TimeWeightAsk=Decimal('3124.05302'))"
      ]
     },
     "execution_count": 16,
     "metadata": {},
     "output_type": "execute_result"
    }
   ],
   "source": [
    "df.head()"
   ]
  },
  {
   "cell_type": "code",
   "execution_count": null,
   "id": "de48dc91-7396-4762-86e1-2483568f24d5",
   "metadata": {
    "tags": []
   },
   "outputs": [],
   "source": []
  },
  {
   "cell_type": "code",
   "execution_count": 17,
   "id": "94899222-8a7f-4a57-9bc1-963b716d767f",
   "metadata": {
    "tags": []
   },
   "outputs": [
    {
     "name": "stdout",
     "output_type": "stream",
     "text": [
      "+-------+--------------------+\n",
      "|summary|              Return|\n",
      "+-------+--------------------+\n",
      "|  count|              228934|\n",
      "|   mean|-9.41443904713050...|\n",
      "| stddev|  0.2000002763424231|\n",
      "|    min|  -55.86041421949761|\n",
      "|    max|  24.087798249203324|\n",
      "+-------+--------------------+\n",
      "\n"
     ]
    }
   ],
   "source": [
    "df = df.withColumn(\"Return\", F.log(df[\"LastTradePrice\"]/df[\"FirstTradePrice\"]) * 100)\n",
    "df.select('Return').describe().show()"
   ]
  },
  {
   "cell_type": "markdown",
   "id": "410b4124-a200-4bfa-8c8d-73632b894b31",
   "metadata": {},
   "source": [
    "## Month with the highest average return"
   ]
  },
  {
   "cell_type": "code",
   "execution_count": 19,
   "id": "2dc8a028-343a-4673-8325-45fdb3c1786a",
   "metadata": {
    "tags": []
   },
   "outputs": [
    {
     "data": {
      "text/plain": [
       "[Row(Month=10, avg(Return)=-0.003955481201327299),\n",
       " Row(Month=4, avg(Return)=-0.0037670491957626337),\n",
       " Row(Month=1, avg(Return)=-0.002735197910440544),\n",
       " Row(Month=3, avg(Return)=-0.0018026123002441684),\n",
       " Row(Month=8, avg(Return)=-0.0009237852396056522),\n",
       " Row(Month=9, avg(Return)=-0.0007859928816761018),\n",
       " Row(Month=5, avg(Return)=-0.00043664948961306423),\n",
       " Row(Month=6, avg(Return)=0.00015944247885182574),\n",
       " Row(Month=11, avg(Return)=0.0002233009375146218),\n",
       " Row(Month=12, avg(Return)=0.00027493932919336493),\n",
       " Row(Month=2, avg(Return)=0.0009285135468963352),\n",
       " Row(Month=7, avg(Return)=0.0013669028175564034)]"
      ]
     },
     "execution_count": 19,
     "metadata": {},
     "output_type": "execute_result"
    }
   ],
   "source": [
    "df = df.withColumn('Month', F.month(df['TradeDate']))\n",
    "df.groupBy('Month').agg({'Return': 'mean'}).orderBy('avg(Return)').collect()\n"
   ]
  },
  {
   "cell_type": "markdown",
   "id": "e744bc94-9e34-4d81-8f82-ea878a4bc332",
   "metadata": {},
   "source": [
    "## Day with the highest average return"
   ]
  },
  {
   "cell_type": "code",
   "execution_count": 20,
   "id": "e2908671-27c1-45f4-b1ba-995537d7f281",
   "metadata": {
    "tags": []
   },
   "outputs": [
    {
     "data": {
      "text/plain": [
       "[Row(Date=293, avg(Return)=-0.06981610179606702),\n",
       " Row(Date=77, avg(Return)=-0.03099927410520282),\n",
       " Row(Date=66, avg(Return)=-0.01857422129038664),\n",
       " Row(Date=300, avg(Return)=-0.012712887430613454),\n",
       " Row(Date=138, avg(Return)=-0.012568052601052666),\n",
       " Row(Date=33, avg(Return)=-0.0113173038106261),\n",
       " Row(Date=89, avg(Return)=-0.010316042197160516),\n",
       " Row(Date=26, avg(Return)=-0.009890792974510575),\n",
       " Row(Date=301, avg(Return)=-0.009691582888972787),\n",
       " Row(Date=7, avg(Return)=-0.009094643862512368),\n",
       " Row(Date=161, avg(Return)=-0.008623506401786005),\n",
       " Row(Date=104, avg(Return)=-0.008485827903697618),\n",
       " Row(Date=14, avg(Return)=-0.008294086315457524),\n",
       " Row(Date=112, avg(Return)=-0.008227457583214734),\n",
       " Row(Date=54, avg(Return)=-0.007988419886487443),\n",
       " Row(Date=206, avg(Return)=-0.007895402784956618),\n",
       " Row(Date=256, avg(Return)=-0.007798469643998162),\n",
       " Row(Date=21, avg(Return)=-0.007698915045168004),\n",
       " Row(Date=119, avg(Return)=-0.007550608690625525),\n",
       " Row(Date=27, avg(Return)=-0.00737862726071606),\n",
       " Row(Date=111, avg(Return)=-0.007279887018646715),\n",
       " Row(Date=189, avg(Return)=-0.007198336816694595),\n",
       " Row(Date=103, avg(Return)=-0.007188087727158803),\n",
       " Row(Date=312, avg(Return)=-0.006965773336086951),\n",
       " Row(Date=280, avg(Return)=-0.006872554252038779),\n",
       " Row(Date=91, avg(Return)=-0.006726605960469874),\n",
       " Row(Date=179, avg(Return)=-0.0065273051178552375),\n",
       " Row(Date=118, avg(Return)=-0.006411790025655289),\n",
       " Row(Date=20, avg(Return)=-0.006182436859127638),\n",
       " Row(Date=234, avg(Return)=-0.006170115163527923),\n",
       " Row(Date=101, avg(Return)=-0.0060173077498015815),\n",
       " Row(Date=258, avg(Return)=-0.005971038561869165),\n",
       " Row(Date=115, avg(Return)=-0.00575364217249442),\n",
       " Row(Date=25, avg(Return)=-0.005729488274669839),\n",
       " Row(Date=243, avg(Return)=-0.005357692584058991),\n",
       " Row(Date=125, avg(Return)=-0.005253268929615699),\n",
       " Row(Date=126, avg(Return)=-0.005229572830810608),\n",
       " Row(Date=158, avg(Return)=-0.005058566131980515),\n",
       " Row(Date=116, avg(Return)=-0.005036570985599521),\n",
       " Row(Date=131, avg(Return)=-0.004940419267097662),\n",
       " Row(Date=238, avg(Return)=-0.004768149705066991),\n",
       " Row(Date=231, avg(Return)=-0.004757893900345658),\n",
       " Row(Date=270, avg(Return)=-0.004724355739177881),\n",
       " Row(Date=48, avg(Return)=-0.004510682299371548),\n",
       " Row(Date=62, avg(Return)=-0.004350386731183627),\n",
       " Row(Date=160, avg(Return)=-0.0041573377501341185),\n",
       " Row(Date=350, avg(Return)=-0.004115655568586858),\n",
       " Row(Date=97, avg(Return)=-0.004089702908631),\n",
       " Row(Date=129, avg(Return)=-0.0040344821667806195),\n",
       " Row(Date=341, avg(Return)=-0.00403267794842522),\n",
       " Row(Date=98, avg(Return)=-0.003986854831472321),\n",
       " Row(Date=10, avg(Return)=-0.003934887852058909),\n",
       " Row(Date=6, avg(Return)=-0.003933016857735454),\n",
       " Row(Date=264, avg(Return)=-0.0038693566110356054),\n",
       " Row(Date=201, avg(Return)=-0.003862474913417231),\n",
       " Row(Date=53, avg(Return)=-0.0038622072417914825),\n",
       " Row(Date=140, avg(Return)=-0.003848507841183013),\n",
       " Row(Date=41, avg(Return)=-0.0037102530962896054),\n",
       " Row(Date=42, avg(Return)=-0.003673488994548675),\n",
       " Row(Date=313, avg(Return)=-0.0036465691526120455),\n",
       " Row(Date=136, avg(Return)=-0.003611029087207368),\n",
       " Row(Date=273, avg(Return)=-0.0035503434349932537),\n",
       " Row(Date=193, avg(Return)=-0.003361761632335534),\n",
       " Row(Date=143, avg(Return)=-0.0033390609248926417),\n",
       " Row(Date=172, avg(Return)=-0.0031084439173445283),\n",
       " Row(Date=334, avg(Return)=-0.0030833503932009947),\n",
       " Row(Date=203, avg(Return)=-0.003051897258699462),\n",
       " Row(Date=73, avg(Return)=-0.003051400840351708),\n",
       " Row(Date=272, avg(Return)=-0.0028920491179245927),\n",
       " Row(Date=284, avg(Return)=-0.0028593116604404547),\n",
       " Row(Date=298, avg(Return)=-0.002858857290562035),\n",
       " Row(Date=46, avg(Return)=-0.002823057690611349),\n",
       " Row(Date=164, avg(Return)=-0.002811929578638102),\n",
       " Row(Date=242, avg(Return)=-0.002797212758653749),\n",
       " Row(Date=221, avg(Return)=-0.0027617441214228293),\n",
       " Row(Date=295, avg(Return)=-0.0027512971217842266),\n",
       " Row(Date=266, avg(Return)=-0.0026409132279655496),\n",
       " Row(Date=241, avg(Return)=-0.0025703321271275197),\n",
       " Row(Date=217, avg(Return)=-0.002465126670790296),\n",
       " Row(Date=63, avg(Return)=-0.002465045155720566),\n",
       " Row(Date=69, avg(Return)=-0.0024433773194780513),\n",
       " Row(Date=249, avg(Return)=-0.0023936768824756225),\n",
       " Row(Date=83, avg(Return)=-0.0023779473266636055),\n",
       " Row(Date=12, avg(Return)=-0.0023152362974091867),\n",
       " Row(Date=102, avg(Return)=-0.002150572500635502),\n",
       " Row(Date=223, avg(Return)=-0.0021325202534363376),\n",
       " Row(Date=326, avg(Return)=-0.002127931154819052),\n",
       " Row(Date=178, avg(Return)=-0.002044487924711038),\n",
       " Row(Date=220, avg(Return)=-0.0020421812018242276),\n",
       " Row(Date=344, avg(Return)=-0.0019428264136046405),\n",
       " Row(Date=67, avg(Return)=-0.0018906209855699691),\n",
       " Row(Date=229, avg(Return)=-0.0018838905511357686),\n",
       " Row(Date=365, avg(Return)=-0.0018710484115468725),\n",
       " Row(Date=90, avg(Return)=-0.001864824071932876),\n",
       " Row(Date=323, avg(Return)=-0.0018145698473822686),\n",
       " Row(Date=168, avg(Return)=-0.0017834209037673045),\n",
       " Row(Date=263, avg(Return)=-0.0017775833682564688),\n",
       " Row(Date=194, avg(Return)=-0.001756311413607957),\n",
       " Row(Date=31, avg(Return)=-0.0017302801995481368),\n",
       " Row(Date=96, avg(Return)=-0.0016933196135574446),\n",
       " Row(Date=154, avg(Return)=-0.0016768785159023965),\n",
       " Row(Date=343, avg(Return)=-0.0016743475190239422),\n",
       " Row(Date=167, avg(Return)=-0.001574739113708326),\n",
       " Row(Date=361, avg(Return)=-0.0015741199137106216),\n",
       " Row(Date=95, avg(Return)=-0.001492008464662089),\n",
       " Row(Date=305, avg(Return)=-0.001463584243311096),\n",
       " Row(Date=13, avg(Return)=-0.0014421038544382434),\n",
       " Row(Date=294, avg(Return)=-0.0013688098200197202),\n",
       " Row(Date=199, avg(Return)=-0.0013028293709356135),\n",
       " Row(Date=4, avg(Return)=-0.0012087141974170602),\n",
       " Row(Date=214, avg(Return)=-0.0012009139115298135),\n",
       " Row(Date=70, avg(Return)=-0.001191970937606683),\n",
       " Row(Date=330, avg(Return)=-0.0011707774926196536),\n",
       " Row(Date=285, avg(Return)=-0.0011473161753038936),\n",
       " Row(Date=319, avg(Return)=-0.0010525909865092252),\n",
       " Row(Date=337, avg(Return)=-0.0010251563600779357),\n",
       " Row(Date=147, avg(Return)=-0.000977477577188609),\n",
       " Row(Date=130, avg(Return)=-0.0009675373327243195),\n",
       " Row(Date=145, avg(Return)=-0.0009596657248374824),\n",
       " Row(Date=279, avg(Return)=-0.000922866421182801),\n",
       " Row(Date=159, avg(Return)=-0.0009044987557156346),\n",
       " Row(Date=287, avg(Return)=-0.0008628164737200076),\n",
       " Row(Date=108, avg(Return)=-0.0008044773848160349),\n",
       " Row(Date=19, avg(Return)=-0.000730298942868631),\n",
       " Row(Date=192, avg(Return)=-0.0007240075430841765),\n",
       " Row(Date=357, avg(Return)=-0.0006914733270897421),\n",
       " Row(Date=60, avg(Return)=-0.0005697594720363727),\n",
       " Row(Date=265, avg(Return)=-0.0005622053073863003),\n",
       " Row(Date=262, avg(Return)=-0.0005140562481350275),\n",
       " Row(Date=5, avg(Return)=-0.00039889499751269685),\n",
       " Row(Date=236, avg(Return)=-0.0003877847800324459),\n",
       " Row(Date=235, avg(Return)=-0.0003718370938919669),\n",
       " Row(Date=123, avg(Return)=-0.0003291394984478666),\n",
       " Row(Date=132, avg(Return)=-0.00025545779209442375),\n",
       " Row(Date=315, avg(Return)=-0.00024892560562775454),\n",
       " Row(Date=152, avg(Return)=-0.0002419504178985164),\n",
       " Row(Date=351, avg(Return)=-0.0002295632440094608),\n",
       " Row(Date=213, avg(Return)=-0.00022709248905045882),\n",
       " Row(Date=320, avg(Return)=-0.0001881152785627059),\n",
       " Row(Date=269, avg(Return)=-8.769637124284027e-05),\n",
       " Row(Date=364, avg(Return)=-7.438505660094098e-05),\n",
       " Row(Date=292, avg(Return)=-5.723662921006642e-05),\n",
       " Row(Date=335, avg(Return)=-5.63685274592777e-05),\n",
       " Row(Date=207, avg(Return)=4.886267360327441e-05),\n",
       " Row(Date=362, avg(Return)=5.2630554248829506e-05),\n",
       " Row(Date=165, avg(Return)=0.00014675686815258165),\n",
       " Row(Date=110, avg(Return)=0.00018806826987626197),\n",
       " Row(Date=88, avg(Return)=0.0002591841015446546),\n",
       " Row(Date=38, avg(Return)=0.0003010589795376297),\n",
       " Row(Date=81, avg(Return)=0.0003377083873956855),\n",
       " Row(Date=228, avg(Return)=0.0003688451640357893),\n",
       " Row(Date=283, avg(Return)=0.0004258731928491459),\n",
       " Row(Date=278, avg(Return)=0.00044271286597119975),\n",
       " Row(Date=333, avg(Return)=0.0004641880165655648),\n",
       " Row(Date=245, avg(Return)=0.0005417383974221125),\n",
       " Row(Date=336, avg(Return)=0.0005445090354580089),\n",
       " Row(Date=11, avg(Return)=0.000575169084376947),\n",
       " Row(Date=49, avg(Return)=0.0005899597480882282),\n",
       " Row(Date=227, avg(Return)=0.0006302148196588165),\n",
       " Row(Date=328, avg(Return)=0.0006386460071643747),\n",
       " Row(Date=80, avg(Return)=0.0007465728745070117),\n",
       " Row(Date=181, avg(Return)=0.0007610171341893095),\n",
       " Row(Date=354, avg(Return)=0.0007866402586869949),\n",
       " Row(Date=109, avg(Return)=0.0008045945050849177),\n",
       " Row(Date=237, avg(Return)=0.0008643167488913163),\n",
       " Row(Date=327, avg(Return)=0.00091268205540462),\n",
       " Row(Date=210, avg(Return)=0.0009284473027995813),\n",
       " Row(Date=340, avg(Return)=0.0009425670437352062),\n",
       " Row(Date=157, avg(Return)=0.0009436201229804253),\n",
       " Row(Date=306, avg(Return)=0.0009722081235787181),\n",
       " Row(Date=348, avg(Return)=0.0010038842329643139),\n",
       " Row(Date=146, avg(Return)=0.0010491850929834807),\n",
       " Row(Date=259, avg(Return)=0.0010726758209554266),\n",
       " Row(Date=180, avg(Return)=0.0012030732787703842),\n",
       " Row(Date=61, avg(Return)=0.0012479376771400781),\n",
       " Row(Date=139, avg(Return)=0.001255860397702805),\n",
       " Row(Date=277, avg(Return)=0.0015003811171920604),\n",
       " Row(Date=309, avg(Return)=0.0015787005284478152),\n",
       " Row(Date=257, avg(Return)=0.0016088676660760105),\n",
       " Row(Date=35, avg(Return)=0.0016271970025630263),\n",
       " Row(Date=244, avg(Return)=0.001630505243711424),\n",
       " Row(Date=224, avg(Return)=0.0017572393589339224),\n",
       " Row(Date=321, avg(Return)=0.0017884352888237378),\n",
       " Row(Date=174, avg(Return)=0.0018984211443550624),\n",
       " Row(Date=342, avg(Return)=0.001932639904011319),\n",
       " Row(Date=250, avg(Return)=0.0019651813875537585),\n",
       " Row(Date=188, avg(Return)=0.0019911064828174647),\n",
       " Row(Date=251, avg(Return)=0.002027245340598772),\n",
       " Row(Date=202, avg(Return)=0.002146061586820828),\n",
       " Row(Date=302, avg(Return)=0.0022749714369552166),\n",
       " Row(Date=252, avg(Return)=0.0022914182010887866),\n",
       " Row(Date=215, avg(Return)=0.0023446327402715517),\n",
       " Row(Date=187, avg(Return)=0.0025242708316335653),\n",
       " Row(Date=308, avg(Return)=0.002528337943626101),\n",
       " Row(Date=87, avg(Return)=0.0025972245771182126),\n",
       " Row(Date=173, avg(Return)=0.002616917203116786),\n",
       " Row(Date=122, avg(Return)=0.002696915082009126),\n",
       " Row(Date=363, avg(Return)=0.002757195906137573),\n",
       " Row(Date=175, avg(Return)=0.002888048850192351),\n",
       " Row(Date=307, avg(Return)=0.0029070413770103847),\n",
       " Row(Date=47, avg(Return)=0.0029370451563955997),\n",
       " Row(Date=195, avg(Return)=0.002992660249303091),\n",
       " Row(Date=84, avg(Return)=0.0030221427853120834),\n",
       " Row(Date=356, avg(Return)=0.003059559865335398),\n",
       " Row(Date=117, avg(Return)=0.003091363001947444),\n",
       " Row(Date=18, avg(Return)=0.0031116551540785603),\n",
       " Row(Date=276, avg(Return)=0.0031196471213472956),\n",
       " Row(Date=322, avg(Return)=0.0031485481278122666),\n",
       " Row(Date=196, avg(Return)=0.0031919980277661233),\n",
       " Row(Date=28, avg(Return)=0.0033339641027539924),\n",
       " Row(Date=230, avg(Return)=0.0033343470829572527),\n",
       " Row(Date=55, avg(Return)=0.0033725180304009085),\n",
       " Row(Date=347, avg(Return)=0.003452449479976959),\n",
       " Row(Date=355, avg(Return)=0.0035328247976548263),\n",
       " Row(Date=82, avg(Return)=0.0035521295880214187),\n",
       " Row(Date=94, avg(Return)=0.00356959822661564),\n",
       " Row(Date=314, avg(Return)=0.003678848522113337),\n",
       " Row(Date=24, avg(Return)=0.0037292145601805476),\n",
       " Row(Date=299, avg(Return)=0.0037342552367487397),\n",
       " Row(Date=124, avg(Return)=0.0037630093964111065),\n",
       " Row(Date=255, avg(Return)=0.003976683132233221),\n",
       " Row(Date=216, avg(Return)=0.004057544568834595),\n",
       " Row(Date=3, avg(Return)=0.0044049880841980195),\n",
       " Row(Date=166, avg(Return)=0.0044319619223344535),\n",
       " Row(Date=144, avg(Return)=0.004530247758225422),\n",
       " Row(Date=76, avg(Return)=0.004573663000426604),\n",
       " Row(Date=40, avg(Return)=0.0046563472482874435),\n",
       " Row(Date=74, avg(Return)=0.005079192169402636),\n",
       " Row(Date=271, avg(Return)=0.005085846030467056),\n",
       " Row(Date=222, avg(Return)=0.005198755224663943),\n",
       " Row(Date=349, avg(Return)=0.00535610400097127),\n",
       " Row(Date=182, avg(Return)=0.005691105507166811),\n",
       " Row(Date=208, avg(Return)=0.005729055675706962),\n",
       " Row(Date=56, avg(Return)=0.005736765489003987),\n",
       " Row(Date=59, avg(Return)=0.005737301007733015),\n",
       " Row(Date=45, avg(Return)=0.00578731159466159),\n",
       " Row(Date=186, avg(Return)=0.005947613007274031),\n",
       " Row(Date=137, avg(Return)=0.0060581729189434184),\n",
       " Row(Date=291, avg(Return)=0.00663755653343882),\n",
       " Row(Date=32, avg(Return)=0.007343454289502465),\n",
       " Row(Date=75, avg(Return)=0.007499071732103864),\n",
       " Row(Date=133, avg(Return)=0.00787906130100604),\n",
       " Row(Date=39, avg(Return)=0.008241288973075677),\n",
       " Row(Date=34, avg(Return)=0.008487426576169669),\n",
       " Row(Date=316, avg(Return)=0.008537831279553888),\n",
       " Row(Date=200, avg(Return)=0.00858275099981084),\n",
       " Row(Date=288, avg(Return)=0.008822944091117932),\n",
       " Row(Date=68, avg(Return)=0.009281402963633471),\n",
       " Row(Date=151, avg(Return)=0.009323477653659387),\n",
       " Row(Date=209, avg(Return)=0.016802727666328978),\n",
       " Row(Date=153, avg(Return)=0.02732150577392478)]"
      ]
     },
     "execution_count": 20,
     "metadata": {},
     "output_type": "execute_result"
    }
   ],
   "source": [
    "df = df.withColumn('Date', F.dayofyear(df['TradeDate']))\n",
    "df.groupBy('Date').agg({'Return': 'mean'}).orderBy('avg(Return)').collect()"
   ]
  },
  {
   "cell_type": "markdown",
   "id": "9d450f16-1d26-4b8d-8eda-de52f5827175",
   "metadata": {},
   "source": [
    "## 50 Day Moving Average"
   ]
  },
  {
   "cell_type": "code",
   "execution_count": 23,
   "id": "810eff55-305b-4fd4-a31a-40005d67e577",
   "metadata": {
    "tags": []
   },
   "outputs": [],
   "source": [
    "windowSpec = Window.orderBy(F.col(\"TradeDate\")).rowsBetween(-50, 0)\n",
    "\n",
    "# Calculate new moving average column using 'avg' and the windowSpec\n",
    "df = df.withColumn('50DMA', F.avg(\"LastTradePrice\").over(windowSpec)) "
   ]
  },
  {
   "cell_type": "code",
   "execution_count": 24,
   "id": "98074d1b-bac3-490c-8f65-b1d538ec69b0",
   "metadata": {
    "tags": []
   },
   "outputs": [
    {
     "name": "stdout",
     "output_type": "stream",
     "text": [
      "+----------+--------------+-------------+------------------+\n",
      "| TradeDate|LastTradePrice|        50DMA|        50_DMA_DEV|\n",
      "+----------+--------------+-------------+------------------+\n",
      "|2021-10-14|     3305.6700|3305.67000000|               0.0|\n",
      "|2021-10-14|        0.0000|1652.83500000|              null|\n",
      "|2021-10-14|     3308.0000|2204.55666667| 40.58173466770914|\n",
      "|2021-10-14|     3306.5000|2480.04250000|28.761453100575334|\n",
      "|2021-10-14|     3306.5000|2645.33400000|22.309289480202082|\n",
      "|2021-10-14|     3306.5000|2755.52833333|18.228103138012862|\n",
      "|2021-10-14|     3307.6700|2834.40571429|15.441172340689203|\n",
      "|2021-10-14|     3306.5000|2893.41750000|13.345189868978158|\n",
      "|2021-10-14|     3306.5000|2939.31555556|11.771347811639389|\n",
      "|2021-10-14|     3308.0000|2976.18400000|10.570183414487957|\n",
      "|2021-10-14|     3308.8800|3006.42909091| 9.585673759192895|\n",
      "|2021-10-14|     3308.1100|3031.56916667|  8.72966670711106|\n",
      "|2021-10-14|     3308.8800|3052.90076923| 8.051755303364086|\n",
      "|2021-10-14|     3310.0000|3071.26500000| 7.485866054276248|\n",
      "|2021-10-14|     3310.1100|3087.18800000| 6.972077724882329|\n",
      "|2021-10-14|     3312.0000|3101.23875000| 6.575060807524763|\n",
      "|2021-10-14|        0.0000|2918.81294118|              null|\n",
      "|2021-10-14|        0.0000|2756.65666667|              null|\n",
      "|2021-10-14|     3312.0000|2785.88526316| 17.29865453731126|\n",
      "|2021-10-14|     3312.0000|2812.19100000|16.358834169492564|\n",
      "+----------+--------------+-------------+------------------+\n",
      "only showing top 20 rows\n",
      "\n"
     ]
    }
   ],
   "source": [
    "deviation = F.log(F.col('LastTradePrice')/F.col('50DMA'))*100\n",
    "df = df.withColumn(\"50_DMA_DEV\", deviation)\n",
    "df.select(['TradeDate','LastTradePrice','50DMA','50_DMA_DEV']).show()"
   ]
  },
  {
   "cell_type": "code",
   "execution_count": 25,
   "id": "ee9b79eb-22fe-42bd-912e-06b887de235d",
   "metadata": {
    "tags": []
   },
   "outputs": [
    {
     "data": {
      "text/plain": [
       "{'TradeDate': datetime.date(2021, 12, 31),\n",
       " 'BarDateTime': datetime.datetime(2021, 12, 31, 10, 51),\n",
       " 'Ticker': 'AMZN',\n",
       " 'SecId': 33127,\n",
       " 'OpenBarTimeOffset': Decimal('0'),\n",
       " 'OpenBidPrice': Decimal('3360.00'),\n",
       " 'OpenBidSize': 100,\n",
       " 'OpenAskPrice': Decimal('3384.00'),\n",
       " 'OpenAskSize': 100,\n",
       " 'FirstTradeTimeOffset': Decimal('25.235214081'),\n",
       " 'FirstTradePrice': Decimal('3375.7500'),\n",
       " 'FirstTradeSize': 1,\n",
       " 'HighBidTimeOffset': Decimal('0E-9'),\n",
       " 'HighBidPrice': Decimal('3360.00'),\n",
       " 'HighBidSize': 100,\n",
       " 'HighAskTimeOffset': Decimal('0E-9'),\n",
       " 'HighAskPrice': Decimal('3384.00'),\n",
       " 'HighAskSize': 100,\n",
       " 'HighTradeTimeOffset': Decimal('25.235214081'),\n",
       " 'HighTradePrice': Decimal('3375.7500'),\n",
       " 'HighTradeSize': 1,\n",
       " 'LowBidTimeOffset': Decimal('0E-9'),\n",
       " 'LowBidPrice': Decimal('3360.00'),\n",
       " 'LowBidSize': 100,\n",
       " 'LowAskTimeOffset': Decimal('0E-9'),\n",
       " 'LowAskPrice': Decimal('3384.00'),\n",
       " 'LowAskSize': 100,\n",
       " 'LowTradeTimeOffset': Decimal('25.235214081'),\n",
       " 'LowTradePrice': Decimal('3375.7500'),\n",
       " 'LowTradeSize': 1,\n",
       " 'CloseBarTimeOffset': Decimal('59.999999999'),\n",
       " 'CloseBidPrice': Decimal('3360.00'),\n",
       " 'CloseBidSize': 100,\n",
       " 'CloseAskPrice': Decimal('3384.00'),\n",
       " 'CloseAskSize': 100,\n",
       " 'LastTradeTimeOffset': Decimal('25.235214081'),\n",
       " 'LastTradePrice': Decimal('3375.7500'),\n",
       " 'LastTradeSize': 1,\n",
       " 'MinSpread': Decimal('24.00'),\n",
       " 'MaxSpread': Decimal('24.00'),\n",
       " 'CancelSize': 0,\n",
       " 'VolumeWeightPrice': Decimal('3375.75000'),\n",
       " 'NBBOQuoteCount': 0,\n",
       " 'TradeAtBid': 0,\n",
       " 'TradeAtBidMid': 0,\n",
       " 'TradeAtMid': 0,\n",
       " 'TradeAtMidAsk': 1,\n",
       " 'TradeAtAsk': 0,\n",
       " 'TradeAtCrossOrLocked': 0,\n",
       " 'Volume': 1,\n",
       " 'TotalTrades': 1,\n",
       " 'FinraVolume': 0,\n",
       " 'FinraVolumeWeightPrice': Decimal('0.00000'),\n",
       " 'UptickVolume': 1,\n",
       " 'DowntickVolume': 0,\n",
       " 'RepeatUptickVolume': 0,\n",
       " 'RepeatDowntickVolume': 0,\n",
       " 'UnknownTickVolume': 0,\n",
       " 'TradeToMidVolWeight': Decimal('375.00000'),\n",
       " 'TradeToMidVolWeightRelative': Decimal('0.15625'),\n",
       " 'TimeWeightBid': Decimal('3360.00000'),\n",
       " 'TimeWeightAsk': Decimal('3384.00000'),\n",
       " 'Return': 0.0,\n",
       " 'Month': 12,\n",
       " 'Date': 365,\n",
       " '50DMA': Decimal('727.99235294'),\n",
       " '50_DMA_DEV': 153.4082256902932}"
      ]
     },
     "execution_count": 25,
     "metadata": {},
     "output_type": "execute_result"
    }
   ],
   "source": [
    "df.orderBy(df[\"50_DMA_DEV\"].desc()).head(1)[0].asDict()\n"
   ]
  },
  {
   "cell_type": "markdown",
   "id": "320a3130-9b91-4abc-9b14-02afd488f851",
   "metadata": {},
   "source": [
    "## Most Active Trading Month"
   ]
  },
  {
   "cell_type": "code",
   "execution_count": 26,
   "id": "b116abb9-9325-4594-a5f2-dd0e432ca7a4",
   "metadata": {
    "tags": []
   },
   "outputs": [
    {
     "data": {
      "text/plain": [
       "[Row(Month=12, avg(Volume)=1962.4917613636364),\n",
       " Row(Month=3, avg(Volume)=2188.501811594203),\n",
       " Row(Month=4, avg(Volume)=2242.108385416667),\n",
       " Row(Month=11, avg(Volume)=2308.9234734734737),\n",
       " Row(Month=1, avg(Volume)=2487.0499479166665),\n",
       " Row(Month=2, avg(Volume)=2827.877850877193),\n",
       " Row(Month=5, avg(Volume)=3102.7077876984126),\n",
       " Row(Month=10, avg(Volume)=12671.743697916667),\n",
       " Row(Month=8, avg(Volume)=27687.835670524168),\n",
       " Row(Month=9, avg(Volume)=32572.577529761904),\n",
       " Row(Month=7, avg(Volume)=35150.92723958333),\n",
       " Row(Month=6, avg(Volume)=35530.05119047619)]"
      ]
     },
     "execution_count": 26,
     "metadata": {},
     "output_type": "execute_result"
    }
   ],
   "source": [
    "df.groupBy('Month').agg({'Volume': 'mean'}).orderBy('avg(Volume)').collect()"
   ]
  },
  {
   "cell_type": "markdown",
   "id": "fcfc3933-4f88-44a9-9412-baa835edb78b",
   "metadata": {},
   "source": [
    "## Most Actve Trading Day"
   ]
  },
  {
   "cell_type": "code",
   "execution_count": 27,
   "id": "ef602a6b-84e9-4661-8e14-e0fd1b8032f4",
   "metadata": {
    "tags": []
   },
   "outputs": [
    {
     "data": {
      "text/plain": [
       "[Row(Date=364, avg(Volume)=1080.2572916666666),\n",
       " Row(Date=363, avg(Volume)=1131.0291666666667),\n",
       " Row(Date=357, avg(Volume)=1217.04375),\n",
       " Row(Date=108, avg(Volume)=1217.303125),\n",
       " Row(Date=294, avg(Volume)=1251.7364583333333),\n",
       " Row(Date=315, avg(Volume)=1340.4302083333334),\n",
       " Row(Date=320, avg(Volume)=1371.8072916666667),\n",
       " Row(Date=287, avg(Volume)=1372.940625),\n",
       " Row(Date=98, avg(Volume)=1396.3916666666667),\n",
       " Row(Date=298, avg(Volume)=1396.6864583333333),\n",
       " Row(Date=84, avg(Volume)=1421.0479166666667),\n",
       " Row(Date=293, avg(Volume)=1428.2885416666666),\n",
       " Row(Date=342, avg(Volume)=1440.190625),\n",
       " Row(Date=292, avg(Volume)=1456.7895833333334),\n",
       " Row(Date=328, avg(Volume)=1487.7291666666667),\n",
       " Row(Date=101, avg(Volume)=1493.3052083333334),\n",
       " Row(Date=12, avg(Volume)=1515.665625),\n",
       " Row(Date=60, avg(Volume)=1516.9760416666666),\n",
       " Row(Date=103, avg(Volume)=1518.6375),\n",
       " Row(Date=343, avg(Volume)=1519.6385416666667),\n",
       " Row(Date=319, avg(Volume)=1541.821875),\n",
       " Row(Date=61, avg(Volume)=1547.540625),\n",
       " Row(Date=94, avg(Volume)=1565.240625),\n",
       " Row(Date=356, avg(Volume)=1574.6052083333334),\n",
       " Row(Date=102, avg(Volume)=1590.0833333333333),\n",
       " Row(Date=362, avg(Volume)=1591.309375),\n",
       " Row(Date=7, avg(Volume)=1591.3166666666666),\n",
       " Row(Date=299, avg(Volume)=1630.8458333333333),\n",
       " Row(Date=6, avg(Volume)=1646.215625),\n",
       " Row(Date=95, avg(Volume)=1659.0552083333334),\n",
       " Row(Date=104, avg(Volume)=1663.5447916666667),\n",
       " Row(Date=365, avg(Volume)=1668.9604166666666),\n",
       " Row(Date=300, avg(Volume)=1673.509375),\n",
       " Row(Date=109, avg(Volume)=1675.4677083333333),\n",
       " Row(Date=47, avg(Volume)=1677.1770833333333),\n",
       " Row(Date=321, avg(Volume)=1682.153125),\n",
       " Row(Date=82, avg(Volume)=1686.2385416666666),\n",
       " Row(Date=14, avg(Volume)=1698.371875),\n",
       " Row(Date=89, avg(Volume)=1726.4041666666667),\n",
       " Row(Date=316, avg(Volume)=1732.9104166666666),\n",
       " Row(Date=83, avg(Volume)=1761.2197916666667),\n",
       " Row(Date=355, avg(Volume)=1763.6864583333333),\n",
       " Row(Date=13, avg(Volume)=1781.7072916666666),\n",
       " Row(Date=110, avg(Volume)=1791.0447916666667),\n",
       " Row(Date=87, avg(Volume)=1795.5927083333333),\n",
       " Row(Date=19, avg(Volume)=1804.2635416666667),\n",
       " Row(Date=80, avg(Volume)=1810.8979166666666),\n",
       " Row(Date=306, avg(Volume)=1817.3958333333333),\n",
       " Row(Date=115, avg(Volume)=1829.8322916666666),\n",
       " Row(Date=348, avg(Volume)=1831.54375),\n",
       " Row(Date=312, avg(Volume)=1850.6447916666666),\n",
       " Row(Date=111, avg(Volume)=1873.5333333333333),\n",
       " Row(Date=81, avg(Volume)=1878.3177083333333),\n",
       " Row(Date=91, avg(Volume)=1884.065625),\n",
       " Row(Date=32, avg(Volume)=1886.1239583333333),\n",
       " Row(Date=354, avg(Volume)=1888.6729166666667),\n",
       " Row(Date=59, avg(Volume)=1918.0958333333333),\n",
       " Row(Date=97, avg(Volume)=1930.4072916666667),\n",
       " Row(Date=46, avg(Volume)=1950.103125),\n",
       " Row(Date=361, avg(Volume)=1967.084375),\n",
       " Row(Date=3, avg(Volume)=1969.0770833333333),\n",
       " Row(Date=88, avg(Volume)=1981.184375),\n",
       " Row(Date=53, avg(Volume)=1982.5395833333334),\n",
       " Row(Date=63, avg(Volume)=2010.2697916666666),\n",
       " Row(Date=49, avg(Volume)=2010.3552083333334),\n",
       " Row(Date=56, avg(Volume)=2020.5395833333334),\n",
       " Row(Date=291, avg(Volume)=2027.5010416666667),\n",
       " Row(Date=295, avg(Volume)=2055.6229166666667),\n",
       " Row(Date=350, avg(Volume)=2071.5760416666667),\n",
       " Row(Date=344, avg(Volume)=2073.280208333333),\n",
       " Row(Date=54, avg(Volume)=2084.3458333333333),\n",
       " Row(Date=48, avg(Volume)=2085.601041666667),\n",
       " Row(Date=62, avg(Volume)=2085.7916666666665),\n",
       " Row(Date=90, avg(Volume)=2088.905208333333),\n",
       " Row(Date=136, avg(Volume)=2096.594791666667),\n",
       " Row(Date=333, avg(Volume)=2096.790625),\n",
       " Row(Date=137, avg(Volume)=2135.5979166666666),\n",
       " Row(Date=327, avg(Volume)=2144.680208333333),\n",
       " Row(Date=41, avg(Volume)=2146.609375),\n",
       " Row(Date=73, avg(Volume)=2152.99375),\n",
       " Row(Date=70, avg(Volume)=2154.0197916666666),\n",
       " Row(Date=11, avg(Volume)=2155.555208333333),\n",
       " Row(Date=40, avg(Volume)=2161.858333333333),\n",
       " Row(Date=39, avg(Volume)=2182.25625),\n",
       " Row(Date=336, avg(Volume)=2196.0104166666665),\n",
       " Row(Date=76, avg(Volume)=2201.259375),\n",
       " Row(Date=5, avg(Volume)=2233.2322916666667),\n",
       " Row(Date=341, avg(Volume)=2243.3770833333333),\n",
       " Row(Date=117, avg(Volume)=2250.9322916666665),\n",
       " Row(Date=340, avg(Volume)=2272.477083333333),\n",
       " Row(Date=4, avg(Volume)=2283.384375),\n",
       " Row(Date=18, avg(Volume)=2290.766666666667),\n",
       " Row(Date=42, avg(Volume)=2317.272916666667),\n",
       " Row(Date=145, avg(Volume)=2328.371875),\n",
       " Row(Date=112, avg(Volume)=2328.9489583333334),\n",
       " Row(Date=74, avg(Volume)=2345.9822916666667),\n",
       " Row(Date=307, avg(Volume)=2350.69375),\n",
       " Row(Date=20, avg(Volume)=2358.0958333333333),\n",
       " Row(Date=123, avg(Volume)=2364.804166666667),\n",
       " Row(Date=45, avg(Volume)=2368.376041666667),\n",
       " Row(Date=305, avg(Volume)=2395.563541666667),\n",
       " Row(Date=116, avg(Volume)=2396.0760416666667),\n",
       " Row(Date=335, avg(Volume)=2411.7302083333334),\n",
       " Row(Date=96, avg(Volume)=2415.476041666667),\n",
       " Row(Date=349, avg(Volume)=2459.3479166666666),\n",
       " Row(Date=75, avg(Volume)=2466.9270833333335),\n",
       " Row(Date=330, avg(Volume)=2492.048717948718),\n",
       " Row(Date=27, avg(Volume)=2509.498958333333),\n",
       " Row(Date=28, avg(Volume)=2511.9125),\n",
       " Row(Date=139, avg(Volume)=2517.117708333333),\n",
       " Row(Date=146, avg(Volume)=2533.945833333333),\n",
       " Row(Date=314, avg(Volume)=2559.11875),\n",
       " Row(Date=334, avg(Volume)=2564.9),\n",
       " Row(Date=313, avg(Volume)=2571.3875),\n",
       " Row(Date=337, avg(Volume)=2572.05625),\n",
       " Row(Date=153, avg(Volume)=2638.909375),\n",
       " Row(Date=31, avg(Volume)=2646.5510416666666),\n",
       " Row(Date=33, avg(Volume)=2684.6510416666665),\n",
       " Row(Date=154, avg(Volume)=2703.6510416666665),\n",
       " Row(Date=67, avg(Volume)=2715.76875),\n",
       " Row(Date=147, avg(Volume)=2730.829166666667),\n",
       " Row(Date=66, avg(Volume)=2758.804166666667),\n",
       " Row(Date=10, avg(Volume)=2769.9010416666665),\n",
       " Row(Date=68, avg(Volume)=2802.117708333333),\n",
       " Row(Date=25, avg(Volume)=2822.0364583333335),\n",
       " Row(Date=140, avg(Volume)=2833.3145833333333),\n",
       " Row(Date=133, avg(Volume)=2843.7375),\n",
       " Row(Date=347, avg(Volume)=2914.6989583333334),\n",
       " Row(Date=144, avg(Volume)=2941.039583333333),\n",
       " Row(Date=38, avg(Volume)=2942.295833333333),\n",
       " Row(Date=326, avg(Volume)=3012.766666666667),\n",
       " Row(Date=130, avg(Volume)=3034.961458333333),\n",
       " Row(Date=138, avg(Volume)=3052.528125),\n",
       " Row(Date=26, avg(Volume)=3093.04375),\n",
       " Row(Date=143, avg(Volume)=3125.1916666666666),\n",
       " Row(Date=323, avg(Volume)=3159.821875),\n",
       " Row(Date=309, avg(Volume)=3181.653125),\n",
       " Row(Date=131, avg(Volume)=3265.7677083333333),\n",
       " Row(Date=124, avg(Volume)=3284.032291666667),\n",
       " Row(Date=351, avg(Volume)=3286.242708333333),\n",
       " Row(Date=288, avg(Volume)=3339.545833333333),\n",
       " Row(Date=77, avg(Volume)=3341.3875),\n",
       " Row(Date=55, avg(Volume)=3363.8416666666667),\n",
       " Row(Date=152, avg(Volume)=3364.3729166666667),\n",
       " Row(Date=322, avg(Volume)=3572.26875),\n",
       " Row(Date=308, avg(Volume)=3595.1427083333333),\n",
       " Row(Date=129, avg(Volume)=3806.9958333333334),\n",
       " Row(Date=301, avg(Volume)=3836.428125),\n",
       " Row(Date=126, avg(Volume)=3843.577083333333),\n",
       " Row(Date=132, avg(Volume)=3864.5625),\n",
       " Row(Date=151, avg(Volume)=3994.071875),\n",
       " Row(Date=302, avg(Volume)=4053.0052083333335),\n",
       " Row(Date=69, avg(Volume)=4085.8947916666666),\n",
       " Row(Date=122, avg(Volume)=4154.566666666667),\n",
       " Row(Date=118, avg(Volume)=4165.364583333333),\n",
       " Row(Date=125, avg(Volume)=4405.255208333333),\n",
       " Row(Date=24, avg(Volume)=4989.116666666667),\n",
       " Row(Date=21, avg(Volume)=5071.286458333333),\n",
       " Row(Date=34, avg(Volume)=7861.029166666666),\n",
       " Row(Date=35, avg(Volume)=8086.607291666666),\n",
       " Row(Date=119, avg(Volume)=8197.457291666668),\n",
       " Row(Date=235, avg(Volume)=19805.864583333332),\n",
       " Row(Date=230, avg(Volume)=20736.807291666668),\n",
       " Row(Date=221, avg(Volume)=21046.278125),\n",
       " Row(Date=237, avg(Volume)=21092.285416666666),\n",
       " Row(Date=227, avg(Volume)=21671.019791666666),\n",
       " Row(Date=189, avg(Volume)=22258.908333333333),\n",
       " Row(Date=283, avg(Volume)=22512.951041666667),\n",
       " Row(Date=251, avg(Volume)=22573.445833333335),\n",
       " Row(Date=236, avg(Volume)=22690.783333333333),\n",
       " Row(Date=223, avg(Volume)=23626.442708333332),\n",
       " Row(Date=249, avg(Volume)=24609.834375),\n",
       " Row(Date=262, avg(Volume)=25150.538541666665),\n",
       " Row(Date=279, avg(Volume)=25238.834375),\n",
       " Row(Date=229, avg(Volume)=25247.264583333334),\n",
       " Row(Date=220, avg(Volume)=25845.59375),\n",
       " Row(Date=257, avg(Volume)=25982.373958333334),\n",
       " Row(Date=278, avg(Volume)=26301.466666666667),\n",
       " Row(Date=285, avg(Volume)=26469.977083333335),\n",
       " Row(Date=263, avg(Volume)=26523.846875),\n",
       " Row(Date=241, avg(Volume)=26634.259375),\n",
       " Row(Date=252, avg(Volume)=26712.188541666666),\n",
       " Row(Date=242, avg(Volume)=26870.69375),\n",
       " Row(Date=195, avg(Volume)=26882.679166666665),\n",
       " Row(Date=224, avg(Volume)=27187.14375),\n",
       " Row(Date=159, avg(Volume)=27275.579166666666),\n",
       " Row(Date=192, avg(Volume)=27575.642708333333),\n",
       " Row(Date=203, avg(Volume)=27588.714583333334),\n",
       " Row(Date=206, avg(Volume)=27629.117708333335),\n",
       " Row(Date=234, avg(Volume)=28067.908333333333),\n",
       " Row(Date=250, avg(Volume)=28079.084375),\n",
       " Row(Date=217, avg(Volume)=28190.538797814206),\n",
       " Row(Date=255, avg(Volume)=28499.545833333334),\n",
       " Row(Date=199, avg(Volume)=28656.726041666665),\n",
       " Row(Date=228, avg(Volume)=28920.091666666667),\n",
       " Row(Date=188, avg(Volume)=29002.73125),\n",
       " Row(Date=193, avg(Volume)=29276.560416666667),\n",
       " Row(Date=173, avg(Volume)=29491.251041666666),\n",
       " Row(Date=187, avg(Volume)=29536.910416666666),\n",
       " Row(Date=180, avg(Volume)=29762.158333333333),\n",
       " Row(Date=231, avg(Volume)=29893.789583333335),\n",
       " Row(Date=276, avg(Volume)=30002.69375),\n",
       " Row(Date=244, avg(Volume)=30107.152083333334),\n",
       " Row(Date=243, avg(Volume)=30498.471875),\n",
       " Row(Date=284, avg(Volume)=30716.477083333335),\n",
       " Row(Date=258, avg(Volume)=30949.7),\n",
       " Row(Date=265, avg(Volume)=31021.169791666667),\n",
       " Row(Date=174, avg(Volume)=31024.657291666666),\n",
       " Row(Date=245, avg(Volume)=31190.748958333334),\n",
       " Row(Date=271, avg(Volume)=31194.371875),\n",
       " Row(Date=214, avg(Volume)=31263.50625),\n",
       " Row(Date=270, avg(Volume)=32020.566666666666),\n",
       " Row(Date=194, avg(Volume)=32341.4125),\n",
       " Row(Date=280, avg(Volume)=32527.415625),\n",
       " Row(Date=222, avg(Volume)=32563.066666666666),\n",
       " Row(Date=202, avg(Volume)=32595.6625),\n",
       " Row(Date=238, avg(Volume)=33059.05625),\n",
       " Row(Date=200, avg(Volume)=33077.64270833333),\n",
       " Row(Date=208, avg(Volume)=33553.385416666664),\n",
       " Row(Date=178, avg(Volume)=33872.60208333333),\n",
       " Row(Date=272, avg(Volume)=34111.71979166667),\n",
       " Row(Date=277, avg(Volume)=34142.15833333333),\n",
       " Row(Date=269, avg(Volume)=34353.54375),\n",
       " Row(Date=201, avg(Volume)=34572.14791666667),\n",
       " Row(Date=266, avg(Volume)=34632.275),\n",
       " Row(Date=160, avg(Volume)=34830.384375),\n",
       " Row(Date=172, avg(Volume)=35151.47708333333),\n",
       " Row(Date=264, avg(Volume)=35195.82083333333),\n",
       " Row(Date=216, avg(Volume)=35457.363541666666),\n",
       " Row(Date=273, avg(Volume)=35882.479166666664),\n",
       " Row(Date=165, avg(Volume)=35921.16875),\n",
       " Row(Date=207, avg(Volume)=37631.825),\n",
       " Row(Date=186, avg(Volume)=37881.478125),\n",
       " Row(Date=213, avg(Volume)=37898.91979166667),\n",
       " Row(Date=182, avg(Volume)=38468.213541666664),\n",
       " Row(Date=215, avg(Volume)=38576.635416666664),\n",
       " Row(Date=175, avg(Volume)=40157.74166666667),\n",
       " Row(Date=179, avg(Volume)=41213.10833333333),\n",
       " Row(Date=158, avg(Volume)=41330.74375),\n",
       " Row(Date=166, avg(Volume)=41567.254166666666),\n",
       " Row(Date=167, avg(Volume)=42053.535416666666),\n",
       " Row(Date=256, avg(Volume)=42114.947916666664),\n",
       " Row(Date=196, avg(Volume)=46048.31145833333),\n",
       " Row(Date=161, avg(Volume)=47069.56458333333),\n",
       " Row(Date=164, avg(Volume)=48620.59375),\n",
       " Row(Date=209, avg(Volume)=50110.35),\n",
       " Row(Date=181, avg(Volume)=53614.246875),\n",
       " Row(Date=168, avg(Volume)=61135.12604166667),\n",
       " Row(Date=157, avg(Volume)=63332.948958333334),\n",
       " Row(Date=259, avg(Volume)=73118.77395833333),\n",
       " Row(Date=210, avg(Volume)=78330.125)]"
      ]
     },
     "execution_count": 27,
     "metadata": {},
     "output_type": "execute_result"
    }
   ],
   "source": [
    "df.groupBy('Date').agg({'Volume': 'mean'}).orderBy('avg(Volume)').collect()"
   ]
  },
  {
   "cell_type": "code",
   "execution_count": null,
   "id": "b0ba1b76-a90e-451b-9dbb-518c84d65124",
   "metadata": {},
   "outputs": [],
   "source": []
  },
  {
   "cell_type": "code",
   "execution_count": 29,
   "id": "5ce5187f-7637-46a7-b865-c072a1f8ed65",
   "metadata": {
    "tags": []
   },
   "outputs": [
    {
     "data": {
      "text/plain": [
       "[Row(Ticker='AMZN', avg(Return)=-0.0009414439047130509)]"
      ]
     },
     "execution_count": 29,
     "metadata": {},
     "output_type": "execute_result"
    }
   ],
   "source": [
    "df.groupBy('Ticker').agg({'Return':'mean'}).orderBy('avg(Return)').collect()"
   ]
  },
  {
   "cell_type": "code",
   "execution_count": 34,
   "id": "3722f5f9-92cf-475e-b924-ea68777124ce",
   "metadata": {
    "tags": []
   },
   "outputs": [
    {
     "data": {
      "text/plain": [
       "[Row(Ticker='AMZN', avg(Return)=-0.0009414439047130509)]"
      ]
     },
     "execution_count": 34,
     "metadata": {},
     "output_type": "execute_result"
    }
   ],
   "source": [
    "df.groupBy('Ticker').agg({'Return':'mean'}).orderBy('avg(Return)').collect()"
   ]
  },
  {
   "cell_type": "code",
   "execution_count": 33,
   "id": "4649924a-ef34-4de5-99d3-7fb2761649d6",
   "metadata": {
    "tags": []
   },
   "outputs": [
    {
     "data": {
      "text/plain": [
       "[Row(quantiles=[-0.03243540252799592, 0.0, 0.03170792498609782])]"
      ]
     },
     "execution_count": 33,
     "metadata": {},
     "output_type": "execute_result"
    }
   ],
   "source": [
    "df.select(\n",
    "    F.percentile_approx(\"Return\", [0.25, 0.5, 0.75], 1000000).alias(\"quantiles\")\n",
    ").collect()"
   ]
  },
  {
   "cell_type": "code",
   "execution_count": 36,
   "id": "6b6e75a9-b9cd-472c-bcc2-a8c025d3be03",
   "metadata": {
    "tags": []
   },
   "outputs": [
    {
     "data": {
      "text/plain": [
       "[Row(Ticker='AMZN', corr=0.005646206190619229)]"
      ]
     },
     "execution_count": 36,
     "metadata": {},
     "output_type": "execute_result"
    }
   ],
   "source": [
    "df.groupBy('Ticker').agg(F.corr('Return','UpTickVolume').alias('corr')).collect()"
   ]
  },
  {
   "cell_type": "code",
   "execution_count": 41,
   "id": "0c6db376-899d-4e33-a4da-c7e0028eba35",
   "metadata": {
    "tags": []
   },
   "outputs": [
    {
     "data": {
      "text/plain": [
       "[Row(Ticker='AMZN', corr=-0.00014415274828344282)]"
      ]
     },
     "execution_count": 41,
     "metadata": {},
     "output_type": "execute_result"
    }
   ],
   "source": [
    "df.groupBy('Ticker').agg(F.corr('Return','DownTickVolume').alias('corr')).collect()"
   ]
  },
  {
   "cell_type": "code",
   "execution_count": 42,
   "id": "711a623e-aca0-461d-a74f-b8068001f70b",
   "metadata": {
    "tags": []
   },
   "outputs": [
    {
     "data": {
      "text/plain": [
       "[Row(Ticker='AMZN', corr=0.025555694553735218)]"
      ]
     },
     "execution_count": 42,
     "metadata": {},
     "output_type": "execute_result"
    }
   ],
   "source": [
    "df.groupBy('Ticker').agg(F.corr('Return','RepeatUpTickVolume').alias('corr')).collect()"
   ]
  },
  {
   "cell_type": "code",
   "execution_count": 43,
   "id": "0ab77ead-d3a5-472c-9839-aad22095d4e5",
   "metadata": {
    "tags": []
   },
   "outputs": [
    {
     "data": {
      "text/plain": [
       "[Row(Ticker='AMZN', corr=-0.013325918547784615)]"
      ]
     },
     "execution_count": 43,
     "metadata": {},
     "output_type": "execute_result"
    }
   ],
   "source": [
    "df.groupBy('Ticker').agg(F.corr('Return','RepeatDownTickVolume').alias('corr')).collect()"
   ]
  },
  {
   "cell_type": "code",
   "execution_count": 45,
   "id": "b49b1e9c-f68e-43fa-9d25-caf778b7b02b",
   "metadata": {
    "tags": []
   },
   "outputs": [
    {
     "data": {
      "text/plain": [
       "[Row(Ticker='AMZN', corr=-0.0020864728945817054)]"
      ]
     },
     "execution_count": 45,
     "metadata": {},
     "output_type": "execute_result"
    }
   ],
   "source": [
    "df.groupBy('Ticker').agg(F.corr('Return','VolumeWeightPrice').alias('corr')).collect()"
   ]
  },
  {
   "cell_type": "code",
   "execution_count": 46,
   "id": "f307bcb9-9a34-4dff-9a7c-91d54acf90f7",
   "metadata": {
    "tags": []
   },
   "outputs": [
    {
     "data": {
      "text/plain": [
       "[Row(Ticker='AMZN', corr=0.009754992453063048)]"
      ]
     },
     "execution_count": 46,
     "metadata": {},
     "output_type": "execute_result"
    }
   ],
   "source": [
    "df.groupBy('Ticker').agg(F.corr('Return','TradeAtAsk').alias('corr')).collect()"
   ]
  },
  {
   "cell_type": "code",
   "execution_count": 53,
   "id": "c82b2927-0baa-4ba3-82d1-cf750ef4aa29",
   "metadata": {
    "tags": []
   },
   "outputs": [
    {
     "data": {
      "text/plain": [
       "[Row(Ticker='AMZN', corr=0.01957501064714033)]"
      ]
     },
     "execution_count": 53,
     "metadata": {},
     "output_type": "execute_result"
    }
   ],
   "source": [
    "df.groupBy('Ticker').agg(F.corr('Return','TradeAtMidAsk').alias('corr')).collect()"
   ]
  },
  {
   "cell_type": "code",
   "execution_count": 62,
   "id": "5513bb7b-deca-4a03-9c4f-dc6736a1a37b",
   "metadata": {
    "tags": []
   },
   "outputs": [
    {
     "data": {
      "text/plain": [
       "[Row(Ticker='AMZN', corr=0.02114204431785122)]"
      ]
     },
     "execution_count": 62,
     "metadata": {},
     "output_type": "execute_result"
    }
   ],
   "source": [
    "df.groupBy('Ticker').agg(F.corr('Return','TradeToMidVolWeight').alias('corr')).collect()"
   ]
  },
  {
   "cell_type": "code",
   "execution_count": 63,
   "id": "423ccf25-774e-4c97-b762-2999d1881cf9",
   "metadata": {
    "tags": []
   },
   "outputs": [
    {
     "data": {
      "text/plain": [
       "[Row(Ticker='AMZN', corr=0.020302774326473715)]"
      ]
     },
     "execution_count": 63,
     "metadata": {},
     "output_type": "execute_result"
    }
   ],
   "source": [
    "df.groupBy('Ticker').agg(F.corr('Return','TradeToMidVolWeightRelative').alias('corr')).collect()"
   ]
  },
  {
   "cell_type": "code",
   "execution_count": 73,
   "id": "89d48d7b-17c2-477f-8777-9086d54bae6c",
   "metadata": {
    "tags": []
   },
   "outputs": [
    {
     "data": {
      "text/plain": [
       "[Row(Ticker='AMZN', corr=0.01465999866198453)]"
      ]
     },
     "execution_count": 73,
     "metadata": {},
     "output_type": "execute_result"
    }
   ],
   "source": [
    "df.groupBy('Ticker').agg(F.corr('Return','60_MMA_DEV').alias('corr')).collect()"
   ]
  },
  {
   "cell_type": "code",
   "execution_count": 37,
   "id": "d3aa21dc-cc56-4a80-8dcb-7cf3720aff28",
   "metadata": {
    "tags": []
   },
   "outputs": [
    {
     "data": {
      "text/plain": [
       "[Row(Ticker='AMZN', kurtosis(Return)=30545.774986581426)]"
      ]
     },
     "execution_count": 37,
     "metadata": {},
     "output_type": "execute_result"
    }
   ],
   "source": [
    "df.groupBy('Ticker').agg(F.kurtosis('Return')).collect()"
   ]
  },
  {
   "cell_type": "code",
   "execution_count": 38,
   "id": "2bdf6966-9fff-4c25-af78-12827e1ec1a4",
   "metadata": {
    "tags": []
   },
   "outputs": [
    {
     "data": {
      "text/plain": [
       "[Row(Ticker='AMZN', skewness(Return)=-104.50196234582617)]"
      ]
     },
     "execution_count": 38,
     "metadata": {},
     "output_type": "execute_result"
    }
   ],
   "source": [
    "df.groupBy('Ticker').agg(F.skewness('Return')).collect()"
   ]
  },
  {
   "cell_type": "code",
   "execution_count": 47,
   "id": "cdafa1b8-46f4-4dd1-9546-4933a82d73f4",
   "metadata": {
    "tags": []
   },
   "outputs": [
    {
     "data": {
      "text/plain": [
       "['TradeDate',\n",
       " 'BarDateTime',\n",
       " 'Ticker',\n",
       " 'SecId',\n",
       " 'OpenBarTimeOffset',\n",
       " 'OpenBidPrice',\n",
       " 'OpenBidSize',\n",
       " 'OpenAskPrice',\n",
       " 'OpenAskSize',\n",
       " 'FirstTradeTimeOffset',\n",
       " 'FirstTradePrice',\n",
       " 'FirstTradeSize',\n",
       " 'HighBidTimeOffset',\n",
       " 'HighBidPrice',\n",
       " 'HighBidSize',\n",
       " 'HighAskTimeOffset',\n",
       " 'HighAskPrice',\n",
       " 'HighAskSize',\n",
       " 'HighTradeTimeOffset',\n",
       " 'HighTradePrice',\n",
       " 'HighTradeSize',\n",
       " 'LowBidTimeOffset',\n",
       " 'LowBidPrice',\n",
       " 'LowBidSize',\n",
       " 'LowAskTimeOffset',\n",
       " 'LowAskPrice',\n",
       " 'LowAskSize',\n",
       " 'LowTradeTimeOffset',\n",
       " 'LowTradePrice',\n",
       " 'LowTradeSize',\n",
       " 'CloseBarTimeOffset',\n",
       " 'CloseBidPrice',\n",
       " 'CloseBidSize',\n",
       " 'CloseAskPrice',\n",
       " 'CloseAskSize',\n",
       " 'LastTradeTimeOffset',\n",
       " 'LastTradePrice',\n",
       " 'LastTradeSize',\n",
       " 'MinSpread',\n",
       " 'MaxSpread',\n",
       " 'CancelSize',\n",
       " 'VolumeWeightPrice',\n",
       " 'NBBOQuoteCount',\n",
       " 'TradeAtBid',\n",
       " 'TradeAtBidMid',\n",
       " 'TradeAtMid',\n",
       " 'TradeAtMidAsk',\n",
       " 'TradeAtAsk',\n",
       " 'TradeAtCrossOrLocked',\n",
       " 'Volume',\n",
       " 'TotalTrades',\n",
       " 'FinraVolume',\n",
       " 'FinraVolumeWeightPrice',\n",
       " 'UptickVolume',\n",
       " 'DowntickVolume',\n",
       " 'RepeatUptickVolume',\n",
       " 'RepeatDowntickVolume',\n",
       " 'UnknownTickVolume',\n",
       " 'TradeToMidVolWeight',\n",
       " 'TradeToMidVolWeightRelative',\n",
       " 'TimeWeightBid',\n",
       " 'TimeWeightAsk',\n",
       " 'Return',\n",
       " 'Month',\n",
       " 'Date',\n",
       " '50DMA',\n",
       " '50_DMA_DEV',\n",
       " '60MMA',\n",
       " '60_MMA_DEV']"
      ]
     },
     "execution_count": 47,
     "metadata": {},
     "output_type": "execute_result"
    }
   ],
   "source": [
    "df.columns"
   ]
  },
  {
   "cell_type": "markdown",
   "id": "23a717ac-93ca-4359-b3f0-3a63298668bf",
   "metadata": {},
   "source": [
    "## 60 Min Moving Average"
   ]
  },
  {
   "cell_type": "code",
   "execution_count": 39,
   "id": "356619b9-3888-4f87-8499-2725e0d70c77",
   "metadata": {
    "tags": []
   },
   "outputs": [],
   "source": [
    "windowSpec1 = Window.orderBy(F.col(\"BarDateTime\")).rowsBetween(-60, 0)\n",
    "\n",
    "# Calculate new moving average column using 'avg' and the windowSpec\n",
    "df = df.withColumn('60MMA', F.avg(\"LastTradePrice\").over(windowSpec)) "
   ]
  },
  {
   "cell_type": "code",
   "execution_count": 40,
   "id": "586089b2-143f-4ea5-a27a-236c5887d587",
   "metadata": {
    "tags": []
   },
   "outputs": [
    {
     "name": "stdout",
     "output_type": "stream",
     "text": [
      "+-------------------+--------------+-------------+------------------+\n",
      "|        BarDateTime|LastTradePrice|        60MMA|        60_MMA_DEV|\n",
      "+-------------------+--------------+-------------+------------------+\n",
      "|2021-10-14 08:00:00|     3305.6700|3305.67000000|               0.0|\n",
      "|2021-10-14 08:01:00|        0.0000|1652.83500000|              null|\n",
      "|2021-10-14 08:02:00|     3308.0000|2204.55666667| 40.58173466770914|\n",
      "|2021-10-14 08:03:00|     3306.5000|2480.04250000|28.761453100575334|\n",
      "|2021-10-14 08:04:00|     3306.5000|2645.33400000|22.309289480202082|\n",
      "|2021-10-14 08:05:00|     3306.5000|2755.52833333|18.228103138012862|\n",
      "|2021-10-14 08:06:00|     3307.6700|2834.40571429|15.441172340689203|\n",
      "|2021-10-14 08:07:00|     3306.5000|2893.41750000|13.345189868978158|\n",
      "|2021-10-14 08:08:00|     3306.5000|2939.31555556|11.771347811639389|\n",
      "|2021-10-14 08:09:00|     3308.0000|2976.18400000|10.570183414487957|\n",
      "|2021-10-14 08:10:00|     3308.8800|3006.42909091| 9.585673759192895|\n",
      "|2021-10-14 08:11:00|     3308.1100|3031.56916667|  8.72966670711106|\n",
      "|2021-10-14 08:12:00|     3308.8800|3052.90076923| 8.051755303364086|\n",
      "|2021-10-14 08:13:00|     3310.0000|3071.26500000| 7.485866054276248|\n",
      "|2021-10-14 08:14:00|     3310.1100|3087.18800000| 6.972077724882329|\n",
      "|2021-10-14 08:15:00|     3312.0000|3101.23875000| 6.575060807524763|\n",
      "|2021-10-14 08:16:00|        0.0000|2918.81294118|              null|\n",
      "|2021-10-14 08:17:00|        0.0000|2756.65666667|              null|\n",
      "|2021-10-14 08:18:00|     3312.0000|2785.88526316| 17.29865453731126|\n",
      "|2021-10-14 08:19:00|     3312.0000|2812.19100000|16.358834169492564|\n",
      "+-------------------+--------------+-------------+------------------+\n",
      "only showing top 20 rows\n",
      "\n"
     ]
    }
   ],
   "source": [
    "deviation1 = F.log(F.col('LastTradePrice')/F.col('60MMA'))*100\n",
    "df = df.withColumn(\"60_MMA_DEV\", deviation1)\n",
    "df.select(['BarDateTime','LastTradePrice','60MMA','60_MMA_DEV']).show()"
   ]
  },
  {
   "cell_type": "code",
   "execution_count": 86,
   "id": "1c898fb1-9e25-4df7-814b-e08242902ce7",
   "metadata": {
    "tags": []
   },
   "outputs": [],
   "source": [
    "from pyspark.ml.regression import LinearRegression\n",
    "from pyspark.ml.feature import VectorAssembler\n",
    "from pyspark.ml import Pipeline\n",
    "\n",
    "stages = []\n",
    "num_cols = ['UptickVolume','RepeatUptickVolume','DowntickVolume','RepeatDowntickVolume','TradeAtMidAsk','TradeToMidVolWeight','TradeToMidVolWeightRelative']\n",
    "assembler = VectorAssembler(inputCols=num_cols, outputCol=\"features\")\n",
    "stages += [assembler]\n",
    "\n",
    "# Create pipeline and use on dataset\n",
    "pipeline = Pipeline(stages=stages)\n",
    "df1 = df.dropna()\n",
    "df1 = pipeline.fit(df1).transform(df1)\n",
    "\n",
    "# Load training data\n",
    "# training = spark.read.format(\"libsvm\")\\.load(\"data/mllib/sample_linear_regression_data.txt\")\n",
    "# training = df.select(['BarDateTime','UpTickVolume','RepeatUptickVolume','DownTickVolume','RepeatDownTickVolume','TradeAtMidAsk','TradeToMidVolWeight','TradeToMidVolWeightRelative'])\n"
   ]
  },
  {
   "cell_type": "code",
   "execution_count": 88,
   "id": "f064b4dc-f3b5-4c30-a6a5-112e17514a0e",
   "metadata": {
    "tags": []
   },
   "outputs": [
    {
     "name": "stdout",
     "output_type": "stream",
     "text": [
      "Train dataset count: 205903\n",
      "Test dataset count: 23031\n"
     ]
    }
   ],
   "source": [
    "train, test = df1.randomSplit([0.90, 0.1], seed=123)\n",
    "print('Train dataset count:', train.count())\n",
    "print('Test dataset count:', test.count())"
   ]
  },
  {
   "cell_type": "code",
   "execution_count": 89,
   "id": "eb79a536-a7c7-4089-a453-bcb0f63cfc3a",
   "metadata": {
    "tags": []
   },
   "outputs": [],
   "source": [
    "from pyspark.ml.feature import StandardScaler\n",
    "\n",
    "# Fit scaler to train dataset\n",
    "scaler = StandardScaler().setInputCol('features') \\\n",
    "        .setOutputCol('scaled_features')\n",
    "scaler_model = scaler.fit(train)\n",
    "\n",
    "# Scale train and test features\n",
    "train = scaler_model.transform(train)\n",
    "test = scaler_model.transform(test)"
   ]
  },
  {
   "cell_type": "code",
   "execution_count": 90,
   "id": "1aad126a-c384-4ae5-b5a6-824a34ff94ef",
   "metadata": {
    "tags": []
   },
   "outputs": [],
   "source": [
    "from pyspark.ml.regression import LinearRegression\n",
    "\n",
    "lr = LinearRegression(featuresCol='scaled_features', labelCol='Return')\n",
    "lr_model = lr.fit(train)"
   ]
  },
  {
   "cell_type": "code",
   "execution_count": 91,
   "id": "c8129f83-6672-452e-b8e3-baa33fde7125",
   "metadata": {
    "tags": []
   },
   "outputs": [],
   "source": [
    "train_predictions = lr_model.transform(train)\n",
    "test_predictions = lr_model.transform(test)"
   ]
  },
  {
   "cell_type": "code",
   "execution_count": 93,
   "id": "96ecb0e5-e620-4a79-84fb-ad831e9be451",
   "metadata": {
    "tags": []
   },
   "outputs": [
    {
     "name": "stdout",
     "output_type": "stream",
     "text": [
      "Train R2: 0.002298775509172124\n",
      "Test R2: 0.0034769443012746537\n"
     ]
    }
   ],
   "source": [
    "from pyspark.ml.evaluation import RegressionEvaluator\n",
    "\n",
    "evaluator = RegressionEvaluator(predictionCol=\"prediction\", \\\n",
    "                 labelCol=\"Return\", metricName=\"r2\")\n",
    "\n",
    "print(\"Train R2:\", evaluator.evaluate(train_predictions))\n",
    "print(\"Test R2:\", evaluator.evaluate(test_predictions))"
   ]
  },
  {
   "cell_type": "code",
   "execution_count": 92,
   "id": "886c6c4b-d9cd-452e-809e-1740a0f9e733",
   "metadata": {
    "tags": []
   },
   "outputs": [
    {
     "name": "stdout",
     "output_type": "stream",
     "text": [
      "Coefficients: [-0.0005880700166696911,0.005599020490284347,-0.0006682534583530403,-0.006391555765650179,0.00493085247806078,0.0039021395152557654,0.003477107832033288]\n",
      "Intercept: -0.0019232421413790447\n"
     ]
    }
   ],
   "source": [
    "print(\"Coefficients: \" + str(lr_model.coefficients))\n",
    "print(\"Intercept: \" + str(lr_model.intercept))"
   ]
  },
  {
   "cell_type": "code",
   "execution_count": 94,
   "id": "208705e0-a18b-4adb-8f24-80a1a022cea0",
   "metadata": {
    "tags": []
   },
   "outputs": [
    {
     "name": "stdout",
     "output_type": "stream",
     "text": [
      "Coefficients: [-0.0005880700166696911,0.005599020490284347,-0.0006682534583530403,-0.006391555765650179,0.00493085247806078,0.0039021395152557654,0.003477107832033288]\n",
      "Intercept: -0.0019232421413790447\n",
      "numIterations: 0\n",
      "objectiveHistory: [0.0]\n",
      "+--------------------+\n",
      "|           residuals|\n",
      "+--------------------+\n",
      "|-0.02670529268366...|\n",
      "|-0.00876405895121...|\n",
      "|-0.00432970866258...|\n",
      "|-0.03678609376815...|\n",
      "| 0.04718192417699304|\n",
      "|-0.00432909976555...|\n",
      "|-0.00680775822307484|\n",
      "|0.008882151143198477|\n",
      "|-0.00332308931570...|\n",
      "| 0.01978328044928357|\n",
      "|0.012599285076998815|\n",
      "|0.008931458985716793|\n",
      "| 0.03560868794403341|\n",
      "|0.006489195994968741|\n",
      "|0.003387074804273282|\n",
      "|0.028696786821407194|\n",
      "|0.010648582461821194|\n",
      "|-0.03186954056903963|\n",
      "| -0.0938085974207427|\n",
      "| 0.09433766905688638|\n",
      "+--------------------+\n",
      "only showing top 20 rows\n",
      "\n",
      "RMSE: 0.202513\n",
      "r2: 0.002299\n"
     ]
    }
   ],
   "source": [
    "# Print the coefficients and intercept for linear regression\n",
    "print(\"Coefficients: %s\" % str(lr_model.coefficients))\n",
    "print(\"Intercept: %s\" % str(lr_model.intercept))\n",
    "\n",
    "# Summarize the model over the training set and print out some metrics\n",
    "trainingSummary = lr_model.summary\n",
    "print(\"numIterations: %d\" % trainingSummary.totalIterations)\n",
    "print(\"objectiveHistory: %s\" % str(trainingSummary.objectiveHistory))\n",
    "trainingSummary.residuals.show()\n",
    "print(\"RMSE: %f\" % trainingSummary.rootMeanSquaredError)\n",
    "print(\"r2: %f\" % trainingSummary.r2)"
   ]
  },
  {
   "cell_type": "code",
   "execution_count": 95,
   "id": "3b80c74a-df16-4e9e-9c7d-0e1b1bfa612c",
   "metadata": {
    "tags": []
   },
   "outputs": [
    {
     "ename": "NameError",
     "evalue": "name 'coef' is not defined",
     "output_type": "error",
     "traceback": [
      "\u001b[0;31m---------------------------------------------------------------------------\u001b[0m",
      "\u001b[0;31mNameError\u001b[0m                                 Traceback (most recent call last)",
      "Cell \u001b[0;32mIn[95], line 11\u001b[0m\n\u001b[1;32m      8\u001b[0m     list_extract \u001b[38;5;241m=\u001b[39m list_extract \u001b[38;5;241m+\u001b[39m df1\u001b[38;5;241m.\u001b[39mschema[\u001b[38;5;124m'\u001b[39m\u001b[38;5;124mfeatures\u001b[39m\u001b[38;5;124m'\u001b[39m] \\\n\u001b[1;32m      9\u001b[0m                     \u001b[38;5;241m.\u001b[39mmetadata[\u001b[38;5;124m\"\u001b[39m\u001b[38;5;124mml_attr\u001b[39m\u001b[38;5;124m\"\u001b[39m][\u001b[38;5;124m\"\u001b[39m\u001b[38;5;124mattrs\u001b[39m\u001b[38;5;124m\"\u001b[39m][i]\n\u001b[1;32m     10\u001b[0m varlist \u001b[38;5;241m=\u001b[39m pd\u001b[38;5;241m.\u001b[39mDataFrame(list_extract)\n\u001b[0;32m---> 11\u001b[0m varlist[\u001b[38;5;124m'\u001b[39m\u001b[38;5;124mweight\u001b[39m\u001b[38;5;124m'\u001b[39m] \u001b[38;5;241m=\u001b[39m \u001b[43mvarlist\u001b[49m\u001b[43m[\u001b[49m\u001b[38;5;124;43m'\u001b[39;49m\u001b[38;5;124;43midx\u001b[39;49m\u001b[38;5;124;43m'\u001b[39;49m\u001b[43m]\u001b[49m\u001b[38;5;241;43m.\u001b[39;49m\u001b[43mapply\u001b[49m\u001b[43m(\u001b[49m\u001b[38;5;28;43;01mlambda\u001b[39;49;00m\u001b[43m \u001b[49m\u001b[43mx\u001b[49m\u001b[43m:\u001b[49m\u001b[43m \u001b[49m\u001b[43mcoef\u001b[49m\u001b[43m[\u001b[49m\u001b[43mx\u001b[49m\u001b[43m]\u001b[49m\u001b[43m)\u001b[49m\n\u001b[1;32m     12\u001b[0m weights \u001b[38;5;241m=\u001b[39m varlist\u001b[38;5;241m.\u001b[39msort_values(\u001b[38;5;124m'\u001b[39m\u001b[38;5;124mweight\u001b[39m\u001b[38;5;124m'\u001b[39m, ascending \u001b[38;5;241m=\u001b[39m \u001b[38;5;28;01mFalse\u001b[39;00m)\n",
      "File \u001b[0;32m/opt/conda/lib/python3.10/site-packages/pandas/core/series.py:4771\u001b[0m, in \u001b[0;36mSeries.apply\u001b[0;34m(self, func, convert_dtype, args, **kwargs)\u001b[0m\n\u001b[1;32m   4661\u001b[0m \u001b[38;5;28;01mdef\u001b[39;00m \u001b[38;5;21mapply\u001b[39m(\n\u001b[1;32m   4662\u001b[0m     \u001b[38;5;28mself\u001b[39m,\n\u001b[1;32m   4663\u001b[0m     func: AggFuncType,\n\u001b[0;32m   (...)\u001b[0m\n\u001b[1;32m   4666\u001b[0m     \u001b[38;5;241m*\u001b[39m\u001b[38;5;241m*\u001b[39mkwargs,\n\u001b[1;32m   4667\u001b[0m ) \u001b[38;5;241m-\u001b[39m\u001b[38;5;241m>\u001b[39m DataFrame \u001b[38;5;241m|\u001b[39m Series:\n\u001b[1;32m   4668\u001b[0m \u001b[38;5;250m    \u001b[39m\u001b[38;5;124;03m\"\"\"\u001b[39;00m\n\u001b[1;32m   4669\u001b[0m \u001b[38;5;124;03m    Invoke function on values of Series.\u001b[39;00m\n\u001b[1;32m   4670\u001b[0m \n\u001b[0;32m   (...)\u001b[0m\n\u001b[1;32m   4769\u001b[0m \u001b[38;5;124;03m    dtype: float64\u001b[39;00m\n\u001b[1;32m   4770\u001b[0m \u001b[38;5;124;03m    \"\"\"\u001b[39;00m\n\u001b[0;32m-> 4771\u001b[0m     \u001b[38;5;28;01mreturn\u001b[39;00m \u001b[43mSeriesApply\u001b[49m\u001b[43m(\u001b[49m\u001b[38;5;28;43mself\u001b[39;49m\u001b[43m,\u001b[49m\u001b[43m \u001b[49m\u001b[43mfunc\u001b[49m\u001b[43m,\u001b[49m\u001b[43m \u001b[49m\u001b[43mconvert_dtype\u001b[49m\u001b[43m,\u001b[49m\u001b[43m \u001b[49m\u001b[43margs\u001b[49m\u001b[43m,\u001b[49m\u001b[43m \u001b[49m\u001b[43mkwargs\u001b[49m\u001b[43m)\u001b[49m\u001b[38;5;241;43m.\u001b[39;49m\u001b[43mapply\u001b[49m\u001b[43m(\u001b[49m\u001b[43m)\u001b[49m\n",
      "File \u001b[0;32m/opt/conda/lib/python3.10/site-packages/pandas/core/apply.py:1123\u001b[0m, in \u001b[0;36mSeriesApply.apply\u001b[0;34m(self)\u001b[0m\n\u001b[1;32m   1120\u001b[0m     \u001b[38;5;28;01mreturn\u001b[39;00m \u001b[38;5;28mself\u001b[39m\u001b[38;5;241m.\u001b[39mapply_str()\n\u001b[1;32m   1122\u001b[0m \u001b[38;5;66;03m# self.f is Callable\u001b[39;00m\n\u001b[0;32m-> 1123\u001b[0m \u001b[38;5;28;01mreturn\u001b[39;00m \u001b[38;5;28;43mself\u001b[39;49m\u001b[38;5;241;43m.\u001b[39;49m\u001b[43mapply_standard\u001b[49m\u001b[43m(\u001b[49m\u001b[43m)\u001b[49m\n",
      "File \u001b[0;32m/opt/conda/lib/python3.10/site-packages/pandas/core/apply.py:1174\u001b[0m, in \u001b[0;36mSeriesApply.apply_standard\u001b[0;34m(self)\u001b[0m\n\u001b[1;32m   1172\u001b[0m     \u001b[38;5;28;01melse\u001b[39;00m:\n\u001b[1;32m   1173\u001b[0m         values \u001b[38;5;241m=\u001b[39m obj\u001b[38;5;241m.\u001b[39mastype(\u001b[38;5;28mobject\u001b[39m)\u001b[38;5;241m.\u001b[39m_values\n\u001b[0;32m-> 1174\u001b[0m         mapped \u001b[38;5;241m=\u001b[39m \u001b[43mlib\u001b[49m\u001b[38;5;241;43m.\u001b[39;49m\u001b[43mmap_infer\u001b[49m\u001b[43m(\u001b[49m\n\u001b[1;32m   1175\u001b[0m \u001b[43m            \u001b[49m\u001b[43mvalues\u001b[49m\u001b[43m,\u001b[49m\n\u001b[1;32m   1176\u001b[0m \u001b[43m            \u001b[49m\u001b[43mf\u001b[49m\u001b[43m,\u001b[49m\n\u001b[1;32m   1177\u001b[0m \u001b[43m            \u001b[49m\u001b[43mconvert\u001b[49m\u001b[38;5;241;43m=\u001b[39;49m\u001b[38;5;28;43mself\u001b[39;49m\u001b[38;5;241;43m.\u001b[39;49m\u001b[43mconvert_dtype\u001b[49m\u001b[43m,\u001b[49m\n\u001b[1;32m   1178\u001b[0m \u001b[43m        \u001b[49m\u001b[43m)\u001b[49m\n\u001b[1;32m   1180\u001b[0m \u001b[38;5;28;01mif\u001b[39;00m \u001b[38;5;28mlen\u001b[39m(mapped) \u001b[38;5;129;01mand\u001b[39;00m \u001b[38;5;28misinstance\u001b[39m(mapped[\u001b[38;5;241m0\u001b[39m], ABCSeries):\n\u001b[1;32m   1181\u001b[0m     \u001b[38;5;66;03m# GH#43986 Need to do list(mapped) in order to get treated as nested\u001b[39;00m\n\u001b[1;32m   1182\u001b[0m     \u001b[38;5;66;03m#  See also GH#25959 regarding EA support\u001b[39;00m\n\u001b[1;32m   1183\u001b[0m     \u001b[38;5;28;01mreturn\u001b[39;00m obj\u001b[38;5;241m.\u001b[39m_constructor_expanddim(\u001b[38;5;28mlist\u001b[39m(mapped), index\u001b[38;5;241m=\u001b[39mobj\u001b[38;5;241m.\u001b[39mindex)\n",
      "File \u001b[0;32m/opt/conda/lib/python3.10/site-packages/pandas/_libs/lib.pyx:2924\u001b[0m, in \u001b[0;36mpandas._libs.lib.map_infer\u001b[0;34m()\u001b[0m\n",
      "Cell \u001b[0;32mIn[95], line 11\u001b[0m, in \u001b[0;36m<lambda>\u001b[0;34m(x)\u001b[0m\n\u001b[1;32m      8\u001b[0m     list_extract \u001b[38;5;241m=\u001b[39m list_extract \u001b[38;5;241m+\u001b[39m df1\u001b[38;5;241m.\u001b[39mschema[\u001b[38;5;124m'\u001b[39m\u001b[38;5;124mfeatures\u001b[39m\u001b[38;5;124m'\u001b[39m] \\\n\u001b[1;32m      9\u001b[0m                     \u001b[38;5;241m.\u001b[39mmetadata[\u001b[38;5;124m\"\u001b[39m\u001b[38;5;124mml_attr\u001b[39m\u001b[38;5;124m\"\u001b[39m][\u001b[38;5;124m\"\u001b[39m\u001b[38;5;124mattrs\u001b[39m\u001b[38;5;124m\"\u001b[39m][i]\n\u001b[1;32m     10\u001b[0m varlist \u001b[38;5;241m=\u001b[39m pd\u001b[38;5;241m.\u001b[39mDataFrame(list_extract)\n\u001b[0;32m---> 11\u001b[0m varlist[\u001b[38;5;124m'\u001b[39m\u001b[38;5;124mweight\u001b[39m\u001b[38;5;124m'\u001b[39m] \u001b[38;5;241m=\u001b[39m varlist[\u001b[38;5;124m'\u001b[39m\u001b[38;5;124midx\u001b[39m\u001b[38;5;124m'\u001b[39m]\u001b[38;5;241m.\u001b[39mapply(\u001b[38;5;28;01mlambda\u001b[39;00m x: \u001b[43mcoef\u001b[49m[x])\n\u001b[1;32m     12\u001b[0m weights \u001b[38;5;241m=\u001b[39m varlist\u001b[38;5;241m.\u001b[39msort_values(\u001b[38;5;124m'\u001b[39m\u001b[38;5;124mweight\u001b[39m\u001b[38;5;124m'\u001b[39m, ascending \u001b[38;5;241m=\u001b[39m \u001b[38;5;28;01mFalse\u001b[39;00m)\n",
      "\u001b[0;31mNameError\u001b[0m: name 'coef' is not defined"
     ]
    }
   ],
   "source": [
    "import numpy as np\n",
    "import pandas as pd\n",
    "import matplotlib.pyplot as plt\n",
    "import seaborn as sns\n",
    "\n",
    "list_extract = []\n",
    "for i in df1.schema['features'].metadata[\"ml_attr\"][\"attrs\"]:\n",
    "    list_extract = list_extract + df1.schema['features'] \\\n",
    "                    .metadata[\"ml_attr\"][\"attrs\"][i]\n",
    "varlist = pd.DataFrame(list_extract)\n",
    "varlist['weight'] = varlist['idx'].apply(lambda x: coef[x])\n",
    "weights = varlist.sort_values('weight', ascending = False)"
   ]
  },
  {
   "cell_type": "code",
   "execution_count": null,
   "id": "98ab996d-d0ad-4e04-90fc-e799276abaec",
   "metadata": {},
   "outputs": [],
   "source": []
  }
 ],
 "metadata": {
  "kernelspec": {
   "display_name": "Python 3 (ipykernel)",
   "language": "python",
   "name": "python3"
  },
  "language_info": {
   "codemirror_mode": {
    "name": "ipython",
    "version": 3
   },
   "file_extension": ".py",
   "mimetype": "text/x-python",
   "name": "python",
   "nbconvert_exporter": "python",
   "pygments_lexer": "ipython3",
   "version": "3.10.9"
  }
 },
 "nbformat": 4,
 "nbformat_minor": 5
}
