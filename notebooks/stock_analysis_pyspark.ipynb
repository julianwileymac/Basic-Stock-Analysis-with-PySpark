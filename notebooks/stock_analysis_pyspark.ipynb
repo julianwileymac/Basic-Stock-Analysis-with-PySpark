{
 "cells": [
  {
   "attachments": {},
   "cell_type": "markdown",
   "metadata": {},
   "source": [
    "# Introduction to Stock Analysis using PySpark"
   ]
  },
  {
   "attachments": {},
   "cell_type": "markdown",
   "metadata": {},
   "source": [
    "## 1. Introduction"
   ]
  },
  {
   "cell_type": "code",
   "execution_count": null,
   "metadata": {},
   "outputs": [],
   "source": [
    "import pandas as pd\n",
    "import numpy as np\n",
    "import matplotlib.pyplot as plt\n",
    "import seaborn as sns\n",
    "import pyspark\n",
    "from pyspark.sql import SparkSession\n",
    "from pyspark.ml import Pipeline\n",
    "from pyspark.ml.evaluation import RegressionEvaluator\n",
    "from pyspark.ml.feature import OneHotEncoderEstimator, VectorAssembler, StringIndexer\n",
    "from pyspark.ml.regression import DecisionTreeRegressor\n",
    "from pyspark.sql import functions as F\n",
    "from pyspark.sql.window import Window\n"
   ]
  },
  {
   "cell_type": "code",
   "execution_count": null,
   "metadata": {},
   "outputs": [],
   "source": [
    "# init spark session\n",
    "spark = SparkSession \\\n",
    "        .builder \\\n",
    "        .appName(\"StockAnalysis\") \\\n",
    "        .getOrCreate()\n",
    "        \n",
    "# Multiple Stocks\n",
    "# df = spark.read.format('parquet').load('../data/**.parquet')\n",
    "# Single Stocks\n",
    "df = spark.read.format('parquet').load('../data/AMZN.parquet')"
   ]
  },
  {
   "attachments": {},
   "cell_type": "markdown",
   "metadata": {},
   "source": [
    "## Lowest Return"
   ]
  },
  {
   "cell_type": "code",
   "execution_count": null,
   "metadata": {},
   "outputs": [],
   "source": [
    "df = df.withColumn(\"Return\", F.log(df[\"LastTradePrice\"]/df[\"FirstTradePrice\"]) * 100)\n",
    "df.select('Return').describe().show()"
   ]
  },
  {
   "attachments": {},
   "cell_type": "markdown",
   "metadata": {},
   "source": [
    "## Month with the Highest Average Return"
   ]
  },
  {
   "cell_type": "code",
   "execution_count": null,
   "metadata": {},
   "outputs": [],
   "source": [
    "df = df.withColumn('Month', F.month(df['TradeDate']))\n",
    "df.groupBy('Month').agg({'Return': 'mean'}).orderBy('avg(Return)').collect()"
   ]
  },
  {
   "attachments": {},
   "cell_type": "markdown",
   "metadata": {},
   "source": [
    "## Day with the Highest Average Returns"
   ]
  },
  {
   "cell_type": "code",
   "execution_count": null,
   "metadata": {},
   "outputs": [],
   "source": [
    "df = df.withColumn('Date', F.dayofyear(df['TradeDate']))\n",
    "df.groupBy('Date').agg({'Return': 'mean'}).orderBy('avg(Return)').collect()"
   ]
  },
  {
   "cell_type": "code",
   "execution_count": null,
   "metadata": {},
   "outputs": [],
   "source": []
  },
  {
   "attachments": {},
   "cell_type": "markdown",
   "metadata": {},
   "source": [
    "## 50-minute moving average"
   ]
  },
  {
   "cell_type": "code",
   "execution_count": null,
   "metadata": {},
   "outputs": [],
   "source": [
    "# Create a window between today and 50 days ago.\n",
    "\n",
    "windowSpec = Window.orderBy(F.col(\"TradeDate\")).rowsBetween(-50, 0)\n",
    "\n",
    "# Calculate new moving average column using 'avg' and the windowSpec\n",
    "df = df.withColumn('50DMA', F.avg(\"LastTradePrice\").over(windowSpec)) "
   ]
  },
  {
   "cell_type": "code",
   "execution_count": null,
   "metadata": {},
   "outputs": [],
   "source": [
    "deviation = F.log(F.col('LastTradePrice')/F.col('50DMA'))*100\n",
    "df = df.withColumn(\"50_DMA_DEV\", deviation)\n",
    "df.select(['TradeDate','LastTradePrice','50DMA','50_DMA_DEV']).show()"
   ]
  },
  {
   "cell_type": "code",
   "execution_count": null,
   "metadata": {},
   "outputs": [],
   "source": [
    "df.orderBy(df[\"50_DMA_DEV\"].desc()).head(1)[0].asDict()\n"
   ]
  },
  {
   "cell_type": "code",
   "execution_count": null,
   "metadata": {},
   "outputs": [],
   "source": []
  },
  {
   "attachments": {},
   "cell_type": "markdown",
   "metadata": {},
   "source": [
    "## Most Active Trading Month"
   ]
  },
  {
   "cell_type": "code",
   "execution_count": null,
   "metadata": {},
   "outputs": [],
   "source": [
    "df.groupBy('Month').agg({'Volume': 'mean'}).orderBy('avg(Volume)').collect()"
   ]
  },
  {
   "attachments": {},
   "cell_type": "markdown",
   "metadata": {},
   "source": [
    "## Most Active Trading Day"
   ]
  },
  {
   "cell_type": "code",
   "execution_count": null,
   "metadata": {},
   "outputs": [],
   "source": [
    "df.groupBy('Date').agg({'Volume': 'mean'}).orderBy('avg(Volume)').collect()"
   ]
  },
  {
   "attachments": {},
   "cell_type": "markdown",
   "metadata": {},
   "source": [
    "## Describe 1-minute Returns"
   ]
  },
  {
   "cell_type": "code",
   "execution_count": null,
   "metadata": {},
   "outputs": [],
   "source": [
    "df.groupBy('Ticker').agg({'Return':'mean'}).orderBy('mean(Return)').collect()"
   ]
  },
  {
   "cell_type": "code",
   "execution_count": null,
   "metadata": {},
   "outputs": [],
   "source": []
  },
  {
   "attachments": {},
   "cell_type": "markdown",
   "metadata": {},
   "source": [
    "## "
   ]
  },
  {
   "cell_type": "code",
   "execution_count": null,
   "metadata": {},
   "outputs": [],
   "source": [
    "df.groupBy('Ticker').agg({'Return':'mean'}).orderBy('avg(Return)').collect()"
   ]
  },
  {
   "cell_type": "markdown",
   "metadata": {},
   "source": []
  },
  {
   "cell_type": "code",
   "execution_count": null,
   "metadata": {},
   "outputs": [],
   "source": [
    "df.groupBy('Ticker').agg({'Return':'mean'}).orderBy('avg(Return)').collect()"
   ]
  },
  {
   "attachments": {},
   "cell_type": "markdown",
   "metadata": {},
   "source": [
    "## 25th, 50th, and 75th percentiles of return"
   ]
  },
  {
   "cell_type": "code",
   "execution_count": null,
   "metadata": {},
   "outputs": [],
   "source": [
    "df.select(\n",
    "    F.percentile_approx(\"Return\", [0.25, 0.5, 0.75], 1000000).alias(\"quantiles\")\n",
    ").collect()"
   ]
  },
  {
   "attachments": {},
   "cell_type": "markdown",
   "metadata": {},
   "source": [
    "## 1 minute return correlation between returns and uptick volume"
   ]
  },
  {
   "cell_type": "code",
   "execution_count": null,
   "metadata": {},
   "outputs": [],
   "source": [
    "df.groupBy('Ticker').agg(F.corr('Return','UpTickVolume').alias('corr')).collect()"
   ]
  },
  {
   "attachments": {},
   "cell_type": "markdown",
   "metadata": {},
   "source": [
    "## 1 minute return kurtosis"
   ]
  },
  {
   "cell_type": "code",
   "execution_count": null,
   "metadata": {},
   "outputs": [],
   "source": [
    "df.groupBy('Ticker').agg(F.kurtosis('Return')).collect()"
   ]
  },
  {
   "attachments": {},
   "cell_type": "markdown",
   "metadata": {},
   "source": [
    "## 1 minute return skewness"
   ]
  },
  {
   "cell_type": "code",
   "execution_count": null,
   "metadata": {},
   "outputs": [],
   "source": [
    "df.groupBy('Ticker').agg(F.skewness('Return')).collect()"
   ]
  },
  {
   "attachments": {},
   "cell_type": "markdown",
   "metadata": {},
   "source": [
    "## 60 Min Moving Average"
   ]
  },
  {
   "cell_type": "code",
   "execution_count": null,
   "metadata": {},
   "outputs": [],
   "source": [
    "windowSpec1 = Window.orderBy(F.col(\"BarDateTime\")).rowsBetween(-60, 0)\n",
    "\n",
    "# Calculate new moving average column using 'avg' and the windowSpec\n",
    "df = df.withColumn('60MMA', F.avg(\"LastTradePrice\").over(windowSpec)) "
   ]
  },
  {
   "cell_type": "code",
   "execution_count": null,
   "metadata": {},
   "outputs": [],
   "source": [
    "deviation1 = F.log(F.col('LastTradePrice')/F.col('60MMA'))*100\n",
    "df = df.withColumn(\"60_MMA_DEV\", deviation1)\n",
    "df.select(['BarDateTime','LastTradePrice','60MMA','60_MMA_DEV']).show()"
   ]
  }
 ],
 "metadata": {
  "kernelspec": {
   "display_name": "Python 3",
   "language": "python",
   "name": "python3"
  },
  "language_info": {
   "name": "python",
   "version": "3.11.2"
  },
  "orig_nbformat": 4,
  "vscode": {
   "interpreter": {
    "hash": "57dd2987098f537f345e7ae8c3dbbea75e05788d3d065fc2b6efdb1ab7ac492c"
   }
  }
 },
 "nbformat": 4,
 "nbformat_minor": 2
}
