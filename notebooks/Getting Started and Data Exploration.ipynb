{
 "cells": [
  {
   "cell_type": "markdown",
   "metadata": {},
   "source": [
    "# Getting Started and Data Exploration"
   ]
  },
  {
   "cell_type": "markdown",
   "metadata": {},
   "source": [
    "## 1. Introduction"
   ]
  },
  {
   "cell_type": "code",
   "execution_count": null,
   "metadata": {
    "collapsed": false,
    "jupyter": {
     "outputs_hidden": false
    }
   },
   "outputs": [],
   "source": []
  },
  {
   "cell_type": "code",
   "execution_count": null,
   "metadata": {
    "collapsed": false,
    "jupyter": {
     "outputs_hidden": false
    }
   },
   "outputs": [],
   "source": []
  },
  {
   "cell_type": "markdown",
   "metadata": {},
   "source": [
    "## 2. Data Download"
   ]
  },
  {
   "cell_type": "code",
   "execution_count": 1,
   "metadata": {
    "collapsed": false,
    "jupyter": {
     "outputs_hidden": false
    },
    "tags": []
   },
   "outputs": [],
   "source": [
    "from urllib.request import Request, urlopen\n",
    "from io import BytesIO\n",
    "from zipfile import ZipFile\n",
    "\n",
    "def download_and_unzip(url, extract_to='.'):\n",
    "    http_response = urlopen(url)\n",
    "    zipfile = ZipFile(BytesIO(http_response.read()))\n",
    "    zipfile.extractall(path=extract_to)"
   ]
  },
  {
   "cell_type": "code",
   "execution_count": 2,
   "metadata": {
    "collapsed": false,
    "jupyter": {
     "outputs_hidden": false
    },
    "tags": []
   },
   "outputs": [],
   "source": [
    "# download nasdaq100 data\n",
    "download_and_unzip('https://algoseek-public.s3.amazonaws.com/nasdaq100-1min.zip', extract_to='../data')"
   ]
  },
  {
   "cell_type": "markdown",
   "metadata": {
    "jupyter": {
     "outputs_hidden": false
    }
   },
   "source": []
  },
  {
   "cell_type": "markdown",
   "metadata": {},
   "source": [
    "## 3. Data Exploration"
   ]
  },
  {
   "cell_type": "code",
   "execution_count": 1,
   "metadata": {
    "tags": []
   },
   "outputs": [],
   "source": [
    "from pyspark.sql import SparkSession\n",
    "\n",
    "spark = SparkSession.builder.appName('Data_Exploration').getOrCreate()\n"
   ]
  },
  {
   "cell_type": "code",
   "execution_count": 5,
   "metadata": {
    "tags": []
   },
   "outputs": [
    {
     "data": {
      "text/plain": [
       "['Date',\n",
       " 'Ticker',\n",
       " 'TimeBarStart',\n",
       " 'OpenBarTime',\n",
       " 'OpenBidPrice',\n",
       " 'OpenBidSize',\n",
       " 'OpenAskPrice',\n",
       " 'OpenAskSize',\n",
       " 'FirstTradeTime',\n",
       " 'FirstTradePrice',\n",
       " 'FirstTradeSize',\n",
       " 'HighBidTime',\n",
       " 'HighBidPrice',\n",
       " 'HighBidSize',\n",
       " 'HighAskTime',\n",
       " 'HighAskPrice',\n",
       " 'HighAskSize',\n",
       " 'HighTradeTime',\n",
       " 'HighTradePrice',\n",
       " 'HighTradeSize',\n",
       " 'LowBidTime',\n",
       " 'LowBidPrice',\n",
       " 'LowBidSize',\n",
       " 'LowAskTime',\n",
       " 'LowAskPrice',\n",
       " 'LowAskSize',\n",
       " 'LowTradeTime',\n",
       " 'LowTradePrice',\n",
       " 'LowTradeSize',\n",
       " 'CloseBarTime',\n",
       " 'CloseBidPrice',\n",
       " 'CloseBidSize',\n",
       " 'CloseAskPrice',\n",
       " 'CloseAskSize',\n",
       " 'LastTradeTime',\n",
       " 'LastTradePrice',\n",
       " 'LastTradeSize',\n",
       " 'MinSpread',\n",
       " 'MaxSpread',\n",
       " 'CancelSize',\n",
       " 'VolumeWeightPrice',\n",
       " 'NBBOQuoteCount',\n",
       " 'TradeAtBid',\n",
       " 'TradeAtBidMid',\n",
       " 'TradeAtMid',\n",
       " 'TradeAtMidAsk',\n",
       " 'TradeAtAsk',\n",
       " 'TradeAtCrossOrLocked',\n",
       " 'Volume',\n",
       " 'TotalTrades',\n",
       " 'FinraVolume',\n",
       " 'FinraVolumeWeightPrice',\n",
       " 'UptickVolume',\n",
       " 'DowntickVolume',\n",
       " 'RepeatUptickVolume',\n",
       " 'RepeatDowntickVolume',\n",
       " 'UnknownTickVolume',\n",
       " 'TradeToMidVolWeight',\n",
       " 'TradeToMidVolWeightRelative',\n",
       " 'TimeWeightBid',\n",
       " 'TimeWeightAsk']"
      ]
     },
     "execution_count": 5,
     "metadata": {},
     "output_type": "execute_result"
    }
   ],
   "source": [
    "nflx = spark.read.option('compression','gzip').option('header',True).csv('../data/nasdaq100/**/**/NFLX.csv.gz')\n",
    "nflx.columns"
   ]
  },
  {
   "cell_type": "code",
   "execution_count": null,
   "metadata": {},
   "outputs": [],
   "source": []
  }
 ],
 "metadata": {
  "kernelspec": {
   "display_name": "Python 3 (ipykernel)",
   "language": "python",
   "name": "python3"
  },
  "language_info": {
   "codemirror_mode": {
    "name": "ipython",
    "version": 3
   },
   "file_extension": ".py",
   "mimetype": "text/x-python",
   "name": "python",
   "nbconvert_exporter": "python",
   "pygments_lexer": "ipython3",
   "version": "3.10.10"
  }
 },
 "nbformat": 4,
 "nbformat_minor": 4
}
